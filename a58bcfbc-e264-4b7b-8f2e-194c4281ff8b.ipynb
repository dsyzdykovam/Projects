{
 "cells": [
  {
   "cell_type": "markdown",
   "id": "c1a04d53",
   "metadata": {},
   "source": [
    "<div class=\"alert alert-success\">\n",
    "<font size=\"5\"><b>Комментарий ревьюера 2</b></font>\n",
    "\n",
    "Привет. Теперь все сделано отлично. Метод сводных таблиц освоен. Он нам очень пригодится в дальнейших проектах. Ты проделала классную работу, молодец. Поздравляю с ее завершением. Надеюсь, проект был интересен и поставлен. Продолжай в том же духе. Успехов в дальнейшем пути :)\n",
    "</div>"
   ]
  },
  {
   "cell_type": "markdown",
   "id": "99658c25",
   "metadata": {},
   "source": [
    "<div class=\"alert alert-info\">\n",
    "<font size=\"5\"><b>Комментарий ревьюера</b></font>\n",
    "\n",
    "Привет, Дана! Спасибо, что прислала задание:) Меня зовут Слепцов Артем и я буду проверять твой проект) Ты проделала большую работу над проектом. Он выполнен уже на достойном уровне. Однако есть моменты, которые еще можно улучшить. Будет здорово, если ты, надеюсь, не против, если я буду на ты, будешь отвечать на комментарии и участвовать в диалоге. Если обращение на ты неприемлемо, то прошу сообщить. \n",
    "\n",
    "Мои комментарии обозначены пометкой **Комментарий ревьюера**. Далее в файле ты сможешь найти их в похожих ячейках:\n",
    "    \n",
    "<div class=\"alert alert-success\">Успех: Если фон комментария зелёный - всё сделано правильно. Рекомендации укажу таким же цветом;</div>\n",
    "        \n",
    "<div class=\"alert alert-warning\">Совет: Оранжевый - некритичные замечания;</div>\n",
    "        \n",
    "<div class=\"alert alert-danger\">Ошибка: Красный - нужно переделать. </div>\n",
    "        \n",
    "Не удаляй эти комментарии и постарайся учесть их в ходе выполнения данного проекта. Свои же комментарии ты можешь обозначать любым заметным способом. \n",
    "\n",
    "</div>"
   ]
  },
  {
   "cell_type": "markdown",
   "id": "eff210ea",
   "metadata": {
    "deletable": false,
    "editable": false,
    "id": "c81daeeb"
   },
   "source": [
    "# Исследование надежности заемщиков\n"
   ]
  },
  {
   "cell_type": "markdown",
   "id": "e61ad1af",
   "metadata": {
    "deletable": false,
    "editable": false,
    "id": "827c20bf"
   },
   "source": [
    "Во второй части проекта вы выполните шаги 3 и 4. Их вручную проверит ревьюер.\n",
    "Чтобы вам не пришлось писать код заново для шагов 1 и 2, мы добавили авторские решения в ячейки с кодом. \n",
    "\n"
   ]
  },
  {
   "cell_type": "markdown",
   "id": "139aae10",
   "metadata": {
    "deletable": false,
    "editable": false,
    "id": "744d7639"
   },
   "source": [
    "## Откройте таблицу и изучите общую информацию о данных"
   ]
  },
  {
   "cell_type": "markdown",
   "id": "47feb480",
   "metadata": {
    "deletable": false,
    "editable": false,
    "id": "e7a14c31"
   },
   "source": [
    "**Задание 1. Импортируйте библиотеку pandas. Считайте данные из csv-файла в датафрейм и сохраните в переменную `data`. Путь к файлу:**\n",
    "\n",
    "`/datasets/data.csv`"
   ]
  },
  {
   "cell_type": "code",
   "execution_count": 1,
   "id": "a18f6539",
   "metadata": {
    "deletable": false,
    "id": "7bcf75c9"
   },
   "outputs": [],
   "source": [
    "import pandas as pd\n",
    "\n",
    "try:\n",
    "    data = pd.read_csv('/datasets/data.csv')\n",
    "except:\n",
    "    data = pd.read_csv('https://code.s3.yandex.net/datasets/data.csv')"
   ]
  },
  {
   "cell_type": "markdown",
   "id": "2b810d92",
   "metadata": {
    "deletable": false,
    "editable": false,
    "id": "b8038fe3"
   },
   "source": [
    "**Задание 2. Выведите первые 20 строчек датафрейма `data` на экран.**"
   ]
  },
  {
   "cell_type": "code",
   "execution_count": 2,
   "id": "11967c67",
   "metadata": {
    "deletable": false,
    "id": "2a7cab99",
    "outputId": "1a8f3ef2-d323-4ec2-ddf7-89670b5944c4"
   },
   "outputs": [
    {
     "data": {
      "text/html": [
       "<div>\n",
       "<style scoped>\n",
       "    .dataframe tbody tr th:only-of-type {\n",
       "        vertical-align: middle;\n",
       "    }\n",
       "\n",
       "    .dataframe tbody tr th {\n",
       "        vertical-align: top;\n",
       "    }\n",
       "\n",
       "    .dataframe thead th {\n",
       "        text-align: right;\n",
       "    }\n",
       "</style>\n",
       "<table border=\"1\" class=\"dataframe\">\n",
       "  <thead>\n",
       "    <tr style=\"text-align: right;\">\n",
       "      <th></th>\n",
       "      <th>children</th>\n",
       "      <th>days_employed</th>\n",
       "      <th>dob_years</th>\n",
       "      <th>education</th>\n",
       "      <th>education_id</th>\n",
       "      <th>family_status</th>\n",
       "      <th>family_status_id</th>\n",
       "      <th>gender</th>\n",
       "      <th>income_type</th>\n",
       "      <th>debt</th>\n",
       "      <th>total_income</th>\n",
       "      <th>purpose</th>\n",
       "    </tr>\n",
       "  </thead>\n",
       "  <tbody>\n",
       "    <tr>\n",
       "      <th>0</th>\n",
       "      <td>1</td>\n",
       "      <td>-8437.673028</td>\n",
       "      <td>42</td>\n",
       "      <td>высшее</td>\n",
       "      <td>0</td>\n",
       "      <td>женат / замужем</td>\n",
       "      <td>0</td>\n",
       "      <td>F</td>\n",
       "      <td>сотрудник</td>\n",
       "      <td>0</td>\n",
       "      <td>253875.639453</td>\n",
       "      <td>покупка жилья</td>\n",
       "    </tr>\n",
       "    <tr>\n",
       "      <th>1</th>\n",
       "      <td>1</td>\n",
       "      <td>-4024.803754</td>\n",
       "      <td>36</td>\n",
       "      <td>среднее</td>\n",
       "      <td>1</td>\n",
       "      <td>женат / замужем</td>\n",
       "      <td>0</td>\n",
       "      <td>F</td>\n",
       "      <td>сотрудник</td>\n",
       "      <td>0</td>\n",
       "      <td>112080.014102</td>\n",
       "      <td>приобретение автомобиля</td>\n",
       "    </tr>\n",
       "    <tr>\n",
       "      <th>2</th>\n",
       "      <td>0</td>\n",
       "      <td>-5623.422610</td>\n",
       "      <td>33</td>\n",
       "      <td>Среднее</td>\n",
       "      <td>1</td>\n",
       "      <td>женат / замужем</td>\n",
       "      <td>0</td>\n",
       "      <td>M</td>\n",
       "      <td>сотрудник</td>\n",
       "      <td>0</td>\n",
       "      <td>145885.952297</td>\n",
       "      <td>покупка жилья</td>\n",
       "    </tr>\n",
       "    <tr>\n",
       "      <th>3</th>\n",
       "      <td>3</td>\n",
       "      <td>-4124.747207</td>\n",
       "      <td>32</td>\n",
       "      <td>среднее</td>\n",
       "      <td>1</td>\n",
       "      <td>женат / замужем</td>\n",
       "      <td>0</td>\n",
       "      <td>M</td>\n",
       "      <td>сотрудник</td>\n",
       "      <td>0</td>\n",
       "      <td>267628.550329</td>\n",
       "      <td>дополнительное образование</td>\n",
       "    </tr>\n",
       "    <tr>\n",
       "      <th>4</th>\n",
       "      <td>0</td>\n",
       "      <td>340266.072047</td>\n",
       "      <td>53</td>\n",
       "      <td>среднее</td>\n",
       "      <td>1</td>\n",
       "      <td>гражданский брак</td>\n",
       "      <td>1</td>\n",
       "      <td>F</td>\n",
       "      <td>пенсионер</td>\n",
       "      <td>0</td>\n",
       "      <td>158616.077870</td>\n",
       "      <td>сыграть свадьбу</td>\n",
       "    </tr>\n",
       "    <tr>\n",
       "      <th>5</th>\n",
       "      <td>0</td>\n",
       "      <td>-926.185831</td>\n",
       "      <td>27</td>\n",
       "      <td>высшее</td>\n",
       "      <td>0</td>\n",
       "      <td>гражданский брак</td>\n",
       "      <td>1</td>\n",
       "      <td>M</td>\n",
       "      <td>компаньон</td>\n",
       "      <td>0</td>\n",
       "      <td>255763.565419</td>\n",
       "      <td>покупка жилья</td>\n",
       "    </tr>\n",
       "    <tr>\n",
       "      <th>6</th>\n",
       "      <td>0</td>\n",
       "      <td>-2879.202052</td>\n",
       "      <td>43</td>\n",
       "      <td>высшее</td>\n",
       "      <td>0</td>\n",
       "      <td>женат / замужем</td>\n",
       "      <td>0</td>\n",
       "      <td>F</td>\n",
       "      <td>компаньон</td>\n",
       "      <td>0</td>\n",
       "      <td>240525.971920</td>\n",
       "      <td>операции с жильем</td>\n",
       "    </tr>\n",
       "    <tr>\n",
       "      <th>7</th>\n",
       "      <td>0</td>\n",
       "      <td>-152.779569</td>\n",
       "      <td>50</td>\n",
       "      <td>СРЕДНЕЕ</td>\n",
       "      <td>1</td>\n",
       "      <td>женат / замужем</td>\n",
       "      <td>0</td>\n",
       "      <td>M</td>\n",
       "      <td>сотрудник</td>\n",
       "      <td>0</td>\n",
       "      <td>135823.934197</td>\n",
       "      <td>образование</td>\n",
       "    </tr>\n",
       "    <tr>\n",
       "      <th>8</th>\n",
       "      <td>2</td>\n",
       "      <td>-6929.865299</td>\n",
       "      <td>35</td>\n",
       "      <td>ВЫСШЕЕ</td>\n",
       "      <td>0</td>\n",
       "      <td>гражданский брак</td>\n",
       "      <td>1</td>\n",
       "      <td>F</td>\n",
       "      <td>сотрудник</td>\n",
       "      <td>0</td>\n",
       "      <td>95856.832424</td>\n",
       "      <td>на проведение свадьбы</td>\n",
       "    </tr>\n",
       "    <tr>\n",
       "      <th>9</th>\n",
       "      <td>0</td>\n",
       "      <td>-2188.756445</td>\n",
       "      <td>41</td>\n",
       "      <td>среднее</td>\n",
       "      <td>1</td>\n",
       "      <td>женат / замужем</td>\n",
       "      <td>0</td>\n",
       "      <td>M</td>\n",
       "      <td>сотрудник</td>\n",
       "      <td>0</td>\n",
       "      <td>144425.938277</td>\n",
       "      <td>покупка жилья для семьи</td>\n",
       "    </tr>\n",
       "    <tr>\n",
       "      <th>10</th>\n",
       "      <td>2</td>\n",
       "      <td>-4171.483647</td>\n",
       "      <td>36</td>\n",
       "      <td>высшее</td>\n",
       "      <td>0</td>\n",
       "      <td>женат / замужем</td>\n",
       "      <td>0</td>\n",
       "      <td>M</td>\n",
       "      <td>компаньон</td>\n",
       "      <td>0</td>\n",
       "      <td>113943.491460</td>\n",
       "      <td>покупка недвижимости</td>\n",
       "    </tr>\n",
       "    <tr>\n",
       "      <th>11</th>\n",
       "      <td>0</td>\n",
       "      <td>-792.701887</td>\n",
       "      <td>40</td>\n",
       "      <td>среднее</td>\n",
       "      <td>1</td>\n",
       "      <td>женат / замужем</td>\n",
       "      <td>0</td>\n",
       "      <td>F</td>\n",
       "      <td>сотрудник</td>\n",
       "      <td>0</td>\n",
       "      <td>77069.234271</td>\n",
       "      <td>покупка коммерческой недвижимости</td>\n",
       "    </tr>\n",
       "    <tr>\n",
       "      <th>12</th>\n",
       "      <td>0</td>\n",
       "      <td>NaN</td>\n",
       "      <td>65</td>\n",
       "      <td>среднее</td>\n",
       "      <td>1</td>\n",
       "      <td>гражданский брак</td>\n",
       "      <td>1</td>\n",
       "      <td>M</td>\n",
       "      <td>пенсионер</td>\n",
       "      <td>0</td>\n",
       "      <td>NaN</td>\n",
       "      <td>сыграть свадьбу</td>\n",
       "    </tr>\n",
       "    <tr>\n",
       "      <th>13</th>\n",
       "      <td>0</td>\n",
       "      <td>-1846.641941</td>\n",
       "      <td>54</td>\n",
       "      <td>неоконченное высшее</td>\n",
       "      <td>2</td>\n",
       "      <td>женат / замужем</td>\n",
       "      <td>0</td>\n",
       "      <td>F</td>\n",
       "      <td>сотрудник</td>\n",
       "      <td>0</td>\n",
       "      <td>130458.228857</td>\n",
       "      <td>приобретение автомобиля</td>\n",
       "    </tr>\n",
       "    <tr>\n",
       "      <th>14</th>\n",
       "      <td>0</td>\n",
       "      <td>-1844.956182</td>\n",
       "      <td>56</td>\n",
       "      <td>высшее</td>\n",
       "      <td>0</td>\n",
       "      <td>гражданский брак</td>\n",
       "      <td>1</td>\n",
       "      <td>F</td>\n",
       "      <td>компаньон</td>\n",
       "      <td>1</td>\n",
       "      <td>165127.911772</td>\n",
       "      <td>покупка жилой недвижимости</td>\n",
       "    </tr>\n",
       "    <tr>\n",
       "      <th>15</th>\n",
       "      <td>1</td>\n",
       "      <td>-972.364419</td>\n",
       "      <td>26</td>\n",
       "      <td>среднее</td>\n",
       "      <td>1</td>\n",
       "      <td>женат / замужем</td>\n",
       "      <td>0</td>\n",
       "      <td>F</td>\n",
       "      <td>сотрудник</td>\n",
       "      <td>0</td>\n",
       "      <td>116820.904450</td>\n",
       "      <td>строительство собственной недвижимости</td>\n",
       "    </tr>\n",
       "    <tr>\n",
       "      <th>16</th>\n",
       "      <td>0</td>\n",
       "      <td>-1719.934226</td>\n",
       "      <td>35</td>\n",
       "      <td>среднее</td>\n",
       "      <td>1</td>\n",
       "      <td>женат / замужем</td>\n",
       "      <td>0</td>\n",
       "      <td>F</td>\n",
       "      <td>сотрудник</td>\n",
       "      <td>0</td>\n",
       "      <td>289202.704229</td>\n",
       "      <td>недвижимость</td>\n",
       "    </tr>\n",
       "    <tr>\n",
       "      <th>17</th>\n",
       "      <td>0</td>\n",
       "      <td>-2369.999720</td>\n",
       "      <td>33</td>\n",
       "      <td>высшее</td>\n",
       "      <td>0</td>\n",
       "      <td>гражданский брак</td>\n",
       "      <td>1</td>\n",
       "      <td>M</td>\n",
       "      <td>сотрудник</td>\n",
       "      <td>0</td>\n",
       "      <td>90410.586745</td>\n",
       "      <td>строительство недвижимости</td>\n",
       "    </tr>\n",
       "    <tr>\n",
       "      <th>18</th>\n",
       "      <td>0</td>\n",
       "      <td>400281.136913</td>\n",
       "      <td>53</td>\n",
       "      <td>среднее</td>\n",
       "      <td>1</td>\n",
       "      <td>вдовец / вдова</td>\n",
       "      <td>2</td>\n",
       "      <td>F</td>\n",
       "      <td>пенсионер</td>\n",
       "      <td>0</td>\n",
       "      <td>56823.777243</td>\n",
       "      <td>на покупку подержанного автомобиля</td>\n",
       "    </tr>\n",
       "    <tr>\n",
       "      <th>19</th>\n",
       "      <td>0</td>\n",
       "      <td>-10038.818549</td>\n",
       "      <td>48</td>\n",
       "      <td>СРЕДНЕЕ</td>\n",
       "      <td>1</td>\n",
       "      <td>в разводе</td>\n",
       "      <td>3</td>\n",
       "      <td>F</td>\n",
       "      <td>сотрудник</td>\n",
       "      <td>0</td>\n",
       "      <td>242831.107982</td>\n",
       "      <td>на покупку своего автомобиля</td>\n",
       "    </tr>\n",
       "  </tbody>\n",
       "</table>\n",
       "</div>"
      ],
      "text/plain": [
       "    children  days_employed  dob_years            education  education_id  \\\n",
       "0          1   -8437.673028         42               высшее             0   \n",
       "1          1   -4024.803754         36              среднее             1   \n",
       "2          0   -5623.422610         33              Среднее             1   \n",
       "3          3   -4124.747207         32              среднее             1   \n",
       "4          0  340266.072047         53              среднее             1   \n",
       "5          0    -926.185831         27               высшее             0   \n",
       "6          0   -2879.202052         43               высшее             0   \n",
       "7          0    -152.779569         50              СРЕДНЕЕ             1   \n",
       "8          2   -6929.865299         35               ВЫСШЕЕ             0   \n",
       "9          0   -2188.756445         41              среднее             1   \n",
       "10         2   -4171.483647         36               высшее             0   \n",
       "11         0    -792.701887         40              среднее             1   \n",
       "12         0            NaN         65              среднее             1   \n",
       "13         0   -1846.641941         54  неоконченное высшее             2   \n",
       "14         0   -1844.956182         56               высшее             0   \n",
       "15         1    -972.364419         26              среднее             1   \n",
       "16         0   -1719.934226         35              среднее             1   \n",
       "17         0   -2369.999720         33               высшее             0   \n",
       "18         0  400281.136913         53              среднее             1   \n",
       "19         0  -10038.818549         48              СРЕДНЕЕ             1   \n",
       "\n",
       "       family_status  family_status_id gender income_type  debt  \\\n",
       "0    женат / замужем                 0      F   сотрудник     0   \n",
       "1    женат / замужем                 0      F   сотрудник     0   \n",
       "2    женат / замужем                 0      M   сотрудник     0   \n",
       "3    женат / замужем                 0      M   сотрудник     0   \n",
       "4   гражданский брак                 1      F   пенсионер     0   \n",
       "5   гражданский брак                 1      M   компаньон     0   \n",
       "6    женат / замужем                 0      F   компаньон     0   \n",
       "7    женат / замужем                 0      M   сотрудник     0   \n",
       "8   гражданский брак                 1      F   сотрудник     0   \n",
       "9    женат / замужем                 0      M   сотрудник     0   \n",
       "10   женат / замужем                 0      M   компаньон     0   \n",
       "11   женат / замужем                 0      F   сотрудник     0   \n",
       "12  гражданский брак                 1      M   пенсионер     0   \n",
       "13   женат / замужем                 0      F   сотрудник     0   \n",
       "14  гражданский брак                 1      F   компаньон     1   \n",
       "15   женат / замужем                 0      F   сотрудник     0   \n",
       "16   женат / замужем                 0      F   сотрудник     0   \n",
       "17  гражданский брак                 1      M   сотрудник     0   \n",
       "18    вдовец / вдова                 2      F   пенсионер     0   \n",
       "19         в разводе                 3      F   сотрудник     0   \n",
       "\n",
       "     total_income                                 purpose  \n",
       "0   253875.639453                           покупка жилья  \n",
       "1   112080.014102                 приобретение автомобиля  \n",
       "2   145885.952297                           покупка жилья  \n",
       "3   267628.550329              дополнительное образование  \n",
       "4   158616.077870                         сыграть свадьбу  \n",
       "5   255763.565419                           покупка жилья  \n",
       "6   240525.971920                       операции с жильем  \n",
       "7   135823.934197                             образование  \n",
       "8    95856.832424                   на проведение свадьбы  \n",
       "9   144425.938277                 покупка жилья для семьи  \n",
       "10  113943.491460                    покупка недвижимости  \n",
       "11   77069.234271       покупка коммерческой недвижимости  \n",
       "12            NaN                         сыграть свадьбу  \n",
       "13  130458.228857                 приобретение автомобиля  \n",
       "14  165127.911772              покупка жилой недвижимости  \n",
       "15  116820.904450  строительство собственной недвижимости  \n",
       "16  289202.704229                            недвижимость  \n",
       "17   90410.586745              строительство недвижимости  \n",
       "18   56823.777243      на покупку подержанного автомобиля  \n",
       "19  242831.107982            на покупку своего автомобиля  "
      ]
     },
     "execution_count": 2,
     "metadata": {},
     "output_type": "execute_result"
    }
   ],
   "source": [
    "data.head(20)"
   ]
  },
  {
   "cell_type": "markdown",
   "id": "48e5f20f",
   "metadata": {
    "deletable": false,
    "editable": false,
    "id": "1c12e233"
   },
   "source": [
    "**Задание 3. Выведите основную информацию о датафрейме с помощью метода `info()`.**"
   ]
  },
  {
   "cell_type": "code",
   "execution_count": 3,
   "id": "288fd0d4",
   "metadata": {
    "deletable": false,
    "id": "2b757bca",
    "outputId": "15376089-8dad-46c9-b520-c05248d43158"
   },
   "outputs": [
    {
     "name": "stdout",
     "output_type": "stream",
     "text": [
      "<class 'pandas.core.frame.DataFrame'>\n",
      "RangeIndex: 21525 entries, 0 to 21524\n",
      "Data columns (total 12 columns):\n",
      " #   Column            Non-Null Count  Dtype  \n",
      "---  ------            --------------  -----  \n",
      " 0   children          21525 non-null  int64  \n",
      " 1   days_employed     19351 non-null  float64\n",
      " 2   dob_years         21525 non-null  int64  \n",
      " 3   education         21525 non-null  object \n",
      " 4   education_id      21525 non-null  int64  \n",
      " 5   family_status     21525 non-null  object \n",
      " 6   family_status_id  21525 non-null  int64  \n",
      " 7   gender            21525 non-null  object \n",
      " 8   income_type       21525 non-null  object \n",
      " 9   debt              21525 non-null  int64  \n",
      " 10  total_income      19351 non-null  float64\n",
      " 11  purpose           21525 non-null  object \n",
      "dtypes: float64(2), int64(5), object(5)\n",
      "memory usage: 2.0+ MB\n"
     ]
    }
   ],
   "source": [
    "data.info()"
   ]
  },
  {
   "cell_type": "markdown",
   "id": "bb67f1aa",
   "metadata": {
    "deletable": false,
    "editable": false,
    "id": "333ec665"
   },
   "source": [
    "## Предобработка данных"
   ]
  },
  {
   "cell_type": "markdown",
   "id": "c829ff96",
   "metadata": {
    "deletable": false,
    "editable": false,
    "id": "02d92d53"
   },
   "source": [
    "### Удаление пропусков"
   ]
  },
  {
   "cell_type": "markdown",
   "id": "cf89445c",
   "metadata": {
    "deletable": false,
    "editable": false,
    "id": "cd84967c"
   },
   "source": [
    "**Задание 4. Выведите количество пропущенных значений для каждого столбца. Используйте комбинацию двух методов.**"
   ]
  },
  {
   "cell_type": "code",
   "execution_count": 4,
   "id": "14dbbbbd",
   "metadata": {
    "deletable": false,
    "id": "7f9b2309",
    "outputId": "81f4d817-781c-465c-ed15-91ce4446810d"
   },
   "outputs": [
    {
     "data": {
      "text/plain": [
       "children               0\n",
       "days_employed       2174\n",
       "dob_years              0\n",
       "education              0\n",
       "education_id           0\n",
       "family_status          0\n",
       "family_status_id       0\n",
       "gender                 0\n",
       "income_type            0\n",
       "debt                   0\n",
       "total_income        2174\n",
       "purpose                0\n",
       "dtype: int64"
      ]
     },
     "execution_count": 4,
     "metadata": {},
     "output_type": "execute_result"
    }
   ],
   "source": [
    "data.isna().sum()"
   ]
  },
  {
   "cell_type": "markdown",
   "id": "1784deb2",
   "metadata": {
    "deletable": false,
    "editable": false,
    "id": "db86e27b"
   },
   "source": [
    "**Задание 5. В двух столбцах есть пропущенные значения. Один из них — `days_employed`. Пропуски в этом столбце вы обработаете на следующем этапе. Другой столбец с пропущенными значениями — `total_income` — хранит данные о доходах. На сумму дохода сильнее всего влияет тип занятости, поэтому заполнить пропуски в этом столбце нужно медианным значением по каждому типу из столбца `income_type`. Например, у человека с типом занятости `сотрудник` пропуск в столбце `total_income` должен быть заполнен медианным доходом среди всех записей с тем же типом.**"
   ]
  },
  {
   "cell_type": "code",
   "execution_count": 5,
   "id": "7a7d1dae",
   "metadata": {
    "deletable": false,
    "id": "42006a93"
   },
   "outputs": [],
   "source": [
    "for t in data['income_type'].unique():\n",
    "    data.loc[(data['income_type'] == t) & (data['total_income'].isna()), 'total_income'] = \\\n",
    "    data.loc[(data['income_type'] == t), 'total_income'].median()"
   ]
  },
  {
   "cell_type": "markdown",
   "id": "55a5d319",
   "metadata": {
    "deletable": false,
    "editable": false,
    "id": "89da5ece"
   },
   "source": [
    "### Обработка аномальных значений"
   ]
  },
  {
   "cell_type": "markdown",
   "id": "caaa8fc5",
   "metadata": {
    "deletable": false,
    "editable": false,
    "id": "57964554"
   },
   "source": [
    "**Задание 6. В данных могут встречаться артефакты (аномалии) — значения, которые не отражают действительность и появились по какой-то ошибке. таким артефактом будет отрицательное количество дней трудового стажа в столбце `days_employed`. Для реальных данных это нормально. Обработайте значения в этом столбце: замените все отрицательные значения положительными с помощью метода `abs()`.**"
   ]
  },
  {
   "cell_type": "code",
   "execution_count": 6,
   "id": "3a6833f5",
   "metadata": {
    "deletable": false,
    "id": "f6f055bf"
   },
   "outputs": [],
   "source": [
    "data['days_employed'] = data['days_employed'].abs()"
   ]
  },
  {
   "cell_type": "markdown",
   "id": "b839e30f",
   "metadata": {
    "deletable": false,
    "editable": false,
    "id": "6107dd2f"
   },
   "source": [
    "**Задание 7. Для каждого типа занятости выведите медианное значение трудового стажа `days_employed` в днях.**"
   ]
  },
  {
   "cell_type": "code",
   "execution_count": 7,
   "id": "5e898fe9",
   "metadata": {
    "deletable": false,
    "id": "85a5faf6",
    "outputId": "801ef80e-522b-4668-f34e-565af7432bcf"
   },
   "outputs": [
    {
     "data": {
      "text/plain": [
       "income_type\n",
       "безработный        366413.652744\n",
       "в декрете            3296.759962\n",
       "госслужащий          2689.368353\n",
       "компаньон            1547.382223\n",
       "пенсионер          365213.306266\n",
       "предприниматель       520.848083\n",
       "сотрудник            1574.202821\n",
       "студент               578.751554\n",
       "Name: days_employed, dtype: float64"
      ]
     },
     "execution_count": 7,
     "metadata": {},
     "output_type": "execute_result"
    }
   ],
   "source": [
    "data.groupby('income_type')['days_employed'].agg('median')"
   ]
  },
  {
   "cell_type": "markdown",
   "id": "8753f214",
   "metadata": {
    "deletable": false,
    "editable": false,
    "id": "38d1a030"
   },
   "source": [
    "У двух типов (безработные и пенсионеры) получатся аномально большие значения. Исправить такие значения сложно, поэтому оставьте их как есть. Тем более этот столбец не понадобится вам для исследования."
   ]
  },
  {
   "cell_type": "markdown",
   "id": "0f536b97",
   "metadata": {
    "deletable": false,
    "editable": false,
    "id": "d8a9f147"
   },
   "source": [
    "**Задание 8. Выведите перечень уникальных значений столбца `children`.**"
   ]
  },
  {
   "cell_type": "code",
   "execution_count": 8,
   "id": "b0700f39",
   "metadata": {
    "deletable": false,
    "id": "ef5056eb",
    "outputId": "6975b15c-7f95-4697-d16d-a0c79b657b03"
   },
   "outputs": [
    {
     "data": {
      "text/plain": [
       "array([ 1,  0,  3,  2, -1,  4, 20,  5])"
      ]
     },
     "execution_count": 8,
     "metadata": {},
     "output_type": "execute_result"
    }
   ],
   "source": [
    "data['children'].unique()"
   ]
  },
  {
   "cell_type": "markdown",
   "id": "b38e1363",
   "metadata": {
    "deletable": false,
    "editable": false,
    "id": "40b9ebf2"
   },
   "source": [
    "**Задание 9. В столбце `children` есть два аномальных значения. Удалите строки, в которых встречаются такие аномальные значения из датафрейма `data`.**"
   ]
  },
  {
   "cell_type": "code",
   "execution_count": 9,
   "id": "83afc63f",
   "metadata": {
    "deletable": false,
    "id": "3ff9801d"
   },
   "outputs": [],
   "source": [
    "data = data[(data['children'] != -1) & (data['children'] != 20)]"
   ]
  },
  {
   "cell_type": "markdown",
   "id": "f41bf913",
   "metadata": {
    "deletable": false,
    "editable": false,
    "id": "bbc4d0ce"
   },
   "source": [
    "**Задание 10. Ещё раз выведите перечень уникальных значений столбца `children`, чтобы убедиться, что артефакты удалены.**"
   ]
  },
  {
   "cell_type": "code",
   "execution_count": 10,
   "id": "b934a187",
   "metadata": {
    "deletable": false,
    "id": "ad4fa8b7",
    "outputId": "b2097101-d49d-44d9-901b-32a65c9463d1"
   },
   "outputs": [
    {
     "data": {
      "text/plain": [
       "array([1, 0, 3, 2, 4, 5])"
      ]
     },
     "execution_count": 10,
     "metadata": {},
     "output_type": "execute_result"
    }
   ],
   "source": [
    "data['children'].unique()"
   ]
  },
  {
   "cell_type": "markdown",
   "id": "96ff3e83",
   "metadata": {
    "deletable": false,
    "editable": false,
    "id": "75440b63"
   },
   "source": [
    "### Удаление пропусков (продолжение)"
   ]
  },
  {
   "cell_type": "markdown",
   "id": "6a0b8a23",
   "metadata": {
    "deletable": false,
    "editable": false,
    "id": "f4ea573f"
   },
   "source": [
    "**Задание 11. Заполните пропуски в столбце `days_employed` медианными значениями по каждого типа занятости `income_type`.**"
   ]
  },
  {
   "cell_type": "code",
   "execution_count": 11,
   "id": "059df66b",
   "metadata": {
    "deletable": false,
    "id": "af6b1a7e"
   },
   "outputs": [],
   "source": [
    "for t in data['income_type'].unique():\n",
    "    data.loc[(data['income_type'] == t) & (data['days_employed'].isna()), 'days_employed'] = \\\n",
    "    data.loc[(data['income_type'] == t), 'days_employed'].median()"
   ]
  },
  {
   "cell_type": "markdown",
   "id": "6a631853",
   "metadata": {
    "deletable": false,
    "editable": false,
    "id": "2753f40d"
   },
   "source": [
    "**Задание 12. Убедитесь, что все пропуски заполнены. Проверьте себя и ещё раз выведите количество пропущенных значений для каждого столбца с помощью двух методов.**"
   ]
  },
  {
   "cell_type": "code",
   "execution_count": 12,
   "id": "ff39c044",
   "metadata": {
    "deletable": false,
    "id": "55f78bc2",
    "outputId": "8da1e4e1-358e-4e87-98c9-f261bce0a7b2"
   },
   "outputs": [
    {
     "data": {
      "text/plain": [
       "children            0\n",
       "days_employed       0\n",
       "dob_years           0\n",
       "education           0\n",
       "education_id        0\n",
       "family_status       0\n",
       "family_status_id    0\n",
       "gender              0\n",
       "income_type         0\n",
       "debt                0\n",
       "total_income        0\n",
       "purpose             0\n",
       "dtype: int64"
      ]
     },
     "execution_count": 12,
     "metadata": {},
     "output_type": "execute_result"
    }
   ],
   "source": [
    "data.isna().sum()"
   ]
  },
  {
   "cell_type": "markdown",
   "id": "1a35ed2f",
   "metadata": {
    "deletable": false,
    "editable": false,
    "id": "ddc81e43"
   },
   "source": [
    "### Изменение типов данных"
   ]
  },
  {
   "cell_type": "markdown",
   "id": "c13413a8",
   "metadata": {
    "deletable": false,
    "editable": false,
    "id": "42d19d24"
   },
   "source": [
    "**Задание 13. Замените вещественный тип данных в столбце `total_income` на целочисленный с помощью метода `astype()`.**"
   ]
  },
  {
   "cell_type": "code",
   "execution_count": 13,
   "id": "9493bcc2",
   "metadata": {
    "deletable": false,
    "id": "920b65ad"
   },
   "outputs": [],
   "source": [
    "data['total_income'] = data['total_income'].astype(int)"
   ]
  },
  {
   "cell_type": "markdown",
   "id": "8aa8d689",
   "metadata": {
    "deletable": false,
    "editable": false,
    "id": "80c420ba"
   },
   "source": [
    "### Обработка дубликатов"
   ]
  },
  {
   "cell_type": "markdown",
   "id": "db8b8d86",
   "metadata": {
    "deletable": false,
    "editable": false
   },
   "source": [
    "**Задание 14. Обработайте неявные дубликаты в столбце `education`. В этом столбце есть одни и те же значения, но записанные по-разному: с использованием заглавных и строчных букв. Приведите их к нижнему регистру. Проверьте остальные столбцы.**"
   ]
  },
  {
   "cell_type": "code",
   "execution_count": 14,
   "id": "2594c13b",
   "metadata": {
    "deletable": false
   },
   "outputs": [],
   "source": [
    "data['education'] = data['education'].str.lower()"
   ]
  },
  {
   "cell_type": "markdown",
   "id": "7fe6dfb8",
   "metadata": {
    "deletable": false,
    "editable": false,
    "id": "dc587695"
   },
   "source": [
    "**Задание 15. Выведите на экран количество строк-дубликатов в данных. Если такие строки присутствуют, удалите их.**"
   ]
  },
  {
   "cell_type": "code",
   "execution_count": 15,
   "id": "fe05d7de",
   "metadata": {
    "deletable": false,
    "id": "3ee445e4",
    "outputId": "9684deba-1934-42d1-99e1-cda61740f822"
   },
   "outputs": [
    {
     "data": {
      "text/plain": [
       "71"
      ]
     },
     "execution_count": 15,
     "metadata": {},
     "output_type": "execute_result"
    }
   ],
   "source": [
    "data.duplicated().sum()"
   ]
  },
  {
   "cell_type": "code",
   "execution_count": 16,
   "id": "75fef6fe",
   "metadata": {
    "deletable": false,
    "id": "8575fe05"
   },
   "outputs": [],
   "source": [
    "data = data.drop_duplicates()"
   ]
  },
  {
   "cell_type": "markdown",
   "id": "930b3dbd",
   "metadata": {
    "deletable": false,
    "editable": false,
    "id": "9904cf55"
   },
   "source": [
    "### Категоризация данных"
   ]
  },
  {
   "cell_type": "markdown",
   "id": "d3fbd8b6",
   "metadata": {
    "deletable": false,
    "editable": false,
    "id": "72fcc8a2"
   },
   "source": [
    "**Задание 16. На основании диапазонов, указанных ниже, создайте в датафрейме `data` столбец `total_income_category` с категориями:**\n",
    "\n",
    "- 0–30000 — `'E'`;\n",
    "- 30001–50000 — `'D'`;\n",
    "- 50001–200000 — `'C'`;\n",
    "- 200001–1000000 — `'B'`;\n",
    "- 1000001 и выше — `'A'`.\n",
    "\n",
    "\n",
    "**Например, кредитополучателю с доходом 25000 нужно назначить категорию `'E'`, а клиенту, получающему 235000, — `'B'`. Используйте собственную функцию с именем `categorize_income()` и метод `apply()`.**"
   ]
  },
  {
   "cell_type": "code",
   "execution_count": 17,
   "id": "68fb9025",
   "metadata": {
    "deletable": false,
    "id": "e1771346"
   },
   "outputs": [],
   "source": [
    "def categorize_income(income):\n",
    "    try:\n",
    "        if 0 <= income <= 30000:\n",
    "            return 'E'\n",
    "        elif 30001 <= income <= 50000:\n",
    "            return 'D'\n",
    "        elif 50001 <= income <= 200000:\n",
    "            return 'C'\n",
    "        elif 200001 <= income <= 1000000:\n",
    "            return 'B'\n",
    "        elif income >= 1000001:\n",
    "            return 'A'\n",
    "    except:\n",
    "        pass"
   ]
  },
  {
   "cell_type": "code",
   "execution_count": 18,
   "id": "e94294c1",
   "metadata": {
    "deletable": false,
    "id": "d5f3586d"
   },
   "outputs": [],
   "source": [
    "data['total_income_category'] = data['total_income'].apply(categorize_income)"
   ]
  },
  {
   "cell_type": "markdown",
   "id": "324350ac",
   "metadata": {
    "deletable": false,
    "editable": false,
    "id": "dde49b5c"
   },
   "source": [
    "**Задание 17. Выведите на экран перечень уникальных целей взятия кредита из столбца `purpose`.**"
   ]
  },
  {
   "cell_type": "code",
   "execution_count": 19,
   "id": "c142eaca",
   "metadata": {
    "deletable": false,
    "id": "f67ce9b3",
    "outputId": "673c12d9-7d7e-4ae0-9812-c622c89dd244"
   },
   "outputs": [
    {
     "data": {
      "text/plain": [
       "array(['покупка жилья', 'приобретение автомобиля',\n",
       "       'дополнительное образование', 'сыграть свадьбу',\n",
       "       'операции с жильем', 'образование', 'на проведение свадьбы',\n",
       "       'покупка жилья для семьи', 'покупка недвижимости',\n",
       "       'покупка коммерческой недвижимости', 'покупка жилой недвижимости',\n",
       "       'строительство собственной недвижимости', 'недвижимость',\n",
       "       'строительство недвижимости', 'на покупку подержанного автомобиля',\n",
       "       'на покупку своего автомобиля',\n",
       "       'операции с коммерческой недвижимостью',\n",
       "       'строительство жилой недвижимости', 'жилье',\n",
       "       'операции со своей недвижимостью', 'автомобили',\n",
       "       'заняться образованием', 'сделка с подержанным автомобилем',\n",
       "       'получение образования', 'автомобиль', 'свадьба',\n",
       "       'получение дополнительного образования', 'покупка своего жилья',\n",
       "       'операции с недвижимостью', 'получение высшего образования',\n",
       "       'свой автомобиль', 'сделка с автомобилем',\n",
       "       'профильное образование', 'высшее образование',\n",
       "       'покупка жилья для сдачи', 'на покупку автомобиля', 'ремонт жилью',\n",
       "       'заняться высшим образованием'], dtype=object)"
      ]
     },
     "execution_count": 19,
     "metadata": {},
     "output_type": "execute_result"
    }
   ],
   "source": [
    "data['purpose'].unique()"
   ]
  },
  {
   "cell_type": "markdown",
   "id": "bdcb1332",
   "metadata": {
    "deletable": false,
    "editable": false,
    "id": "85d0aef0"
   },
   "source": [
    "**Задание 18. Создайте функцию, которая на основании данных из столбца `purpose` сформирует новый столбец `purpose_category`, в который войдут следующие категории:**\n",
    "\n",
    "- `'операции с автомобилем'`,\n",
    "- `'операции с недвижимостью'`,\n",
    "- `'проведение свадьбы'`,\n",
    "- `'получение образования'`.\n",
    "\n",
    "**Например, если в столбце `purpose` находится подстрока `'на покупку автомобиля'`, то в столбце `purpose_category` должна появиться строка `'операции с автомобилем'`.**\n",
    "\n",
    "**Используйте собственную функцию с именем `categorize_purpose()` и метод `apply()`. Изучите данные в столбце `purpose` и определите, какие подстроки помогут вам правильно определить категорию.**"
   ]
  },
  {
   "cell_type": "code",
   "execution_count": 20,
   "id": "869c9c0c",
   "metadata": {
    "deletable": false,
    "id": "e149fab4"
   },
   "outputs": [],
   "source": [
    "def categorize_purpose(row):\n",
    "    try:\n",
    "        if 'автом' in row:\n",
    "            return 'операции с автомобилем'\n",
    "        elif 'жил' in row or 'недвиж' in row:\n",
    "            return 'операции с недвижимостью'\n",
    "        elif 'свад' in row:\n",
    "            return 'проведение свадьбы'\n",
    "        elif 'образов' in row:\n",
    "            return 'получение образования'\n",
    "    except:\n",
    "        return 'нет категории'"
   ]
  },
  {
   "cell_type": "code",
   "execution_count": 21,
   "id": "1f8c771e",
   "metadata": {
    "deletable": false,
    "id": "bf36e69b"
   },
   "outputs": [],
   "source": [
    "data['purpose_category'] = data['purpose'].apply(categorize_purpose)"
   ]
  },
  {
   "cell_type": "markdown",
   "id": "82432418",
   "metadata": {
    "deletable": false,
    "editable": false,
    "id": "09b242bf"
   },
   "source": [
    "### Шаг 3. Исследуйте данные и ответьте на вопросы"
   ]
  },
  {
   "cell_type": "markdown",
   "id": "9aeb2d9a",
   "metadata": {
    "deletable": false,
    "editable": false,
    "id": "c5d66278"
   },
   "source": [
    "#### 3.1 Есть ли зависимость между количеством детей и возвратом кредита в срок?"
   ]
  },
  {
   "cell_type": "code",
   "execution_count": 22,
   "id": "5b111c6d",
   "metadata": {
    "deletable": false,
    "id": "2cacfc4a"
   },
   "outputs": [
    {
     "data": {
      "text/html": [
       "<div>\n",
       "<style scoped>\n",
       "    .dataframe tbody tr th:only-of-type {\n",
       "        vertical-align: middle;\n",
       "    }\n",
       "\n",
       "    .dataframe tbody tr th {\n",
       "        vertical-align: top;\n",
       "    }\n",
       "\n",
       "    .dataframe thead th {\n",
       "        text-align: right;\n",
       "    }\n",
       "</style>\n",
       "<table border=\"1\" class=\"dataframe\">\n",
       "  <thead>\n",
       "    <tr style=\"text-align: right;\">\n",
       "      <th></th>\n",
       "      <th>count</th>\n",
       "      <th>sum</th>\n",
       "      <th>repayment_rate</th>\n",
       "    </tr>\n",
       "    <tr>\n",
       "      <th>children</th>\n",
       "      <th></th>\n",
       "      <th></th>\n",
       "      <th></th>\n",
       "    </tr>\n",
       "  </thead>\n",
       "  <tbody>\n",
       "    <tr>\n",
       "      <th>0</th>\n",
       "      <td>14091</td>\n",
       "      <td>1063</td>\n",
       "      <td>92.456178</td>\n",
       "    </tr>\n",
       "    <tr>\n",
       "      <th>1</th>\n",
       "      <td>4808</td>\n",
       "      <td>444</td>\n",
       "      <td>90.765391</td>\n",
       "    </tr>\n",
       "    <tr>\n",
       "      <th>2</th>\n",
       "      <td>2052</td>\n",
       "      <td>194</td>\n",
       "      <td>90.545809</td>\n",
       "    </tr>\n",
       "    <tr>\n",
       "      <th>3</th>\n",
       "      <td>330</td>\n",
       "      <td>27</td>\n",
       "      <td>91.818182</td>\n",
       "    </tr>\n",
       "    <tr>\n",
       "      <th>4</th>\n",
       "      <td>41</td>\n",
       "      <td>4</td>\n",
       "      <td>90.243902</td>\n",
       "    </tr>\n",
       "    <tr>\n",
       "      <th>5</th>\n",
       "      <td>9</td>\n",
       "      <td>0</td>\n",
       "      <td>100.000000</td>\n",
       "    </tr>\n",
       "  </tbody>\n",
       "</table>\n",
       "</div>"
      ],
      "text/plain": [
       "          count   sum  repayment_rate\n",
       "children                             \n",
       "0         14091  1063       92.456178\n",
       "1          4808   444       90.765391\n",
       "2          2052   194       90.545809\n",
       "3           330    27       91.818182\n",
       "4            41     4       90.243902\n",
       "5             9     0      100.000000"
      ]
     },
     "metadata": {},
     "output_type": "display_data"
    }
   ],
   "source": [
    "children_debt = data.groupby('children')['debt'].agg(['count', 'sum'])\n",
    "children_debt['repayment_rate'] = (1 - children_debt['sum'] / children_debt['count']) * 100\n",
    "display(children_debt)\n",
    "# Ваш код будет здесь. Вы можете создавать новые ячейки."
   ]
  },
  {
   "cell_type": "markdown",
   "id": "4bbd9ea4",
   "metadata": {},
   "source": [
    "<div class=\"alert alert-warning\">\n",
    "<font size=\"5\"><b>Комментарий ревьюера</b></font>\n",
    "\n",
    "Совет: Таблицы на печать выводи с помощью метода display. print переводит данные в строку, а нам этого не надо. \n",
    "\n",
    "</div>"
   ]
  },
  {
   "cell_type": "markdown",
   "id": "4bfdcc2a",
   "metadata": {
    "deletable": false,
    "id": "3a6b99ec"
   },
   "source": [
    "**Вывод:** \n",
    "Клиенты без детей (0 детей) имеют самый высокий процент возврата в срок (92.46%).\n",
    "Клиенты с 1 и 2 детьми показывают схожий процент возврата, чуть ниже (90.77% и 90.55% соответственно).\n",
    "Клиенты с 3 детьми имеют немного лучший процент возврата (91.82%).\n",
    "Клиенты с 4 детьми показывают наименьший процент возврата (90.24%), но разница незначительна.\n",
    "Клиенты с 5 детьми показали 100% возврат, но это связано с малым количеством кредитов (всего 9).\n",
    "Процент возврата в срок не сильно меняется с увеличением количества детей, и все значения выше 90%. Тем не менее, клиенты с 0 и 3 детьми показывают наилучшие результаты.\n",
    "Малое количество данных: У клиентов с 4 и 5 детьми количество кредитов очень маленькое, что может не позволить сделать окончательные выводы по этим группам"
   ]
  },
  {
   "cell_type": "markdown",
   "id": "45beda18",
   "metadata": {},
   "source": [
    "<div class=\"alert alert-success\">\n",
    "<font size=\"5\"><b>Комментарий ревьюера</b></font>\n",
    "\n",
    "Успех: Вывод не противоречит полученному результату. \n",
    "\n",
    "</div>"
   ]
  },
  {
   "cell_type": "markdown",
   "id": "5e2e4012",
   "metadata": {
    "deletable": false,
    "editable": false,
    "id": "97be82ca"
   },
   "source": [
    "#### 3.2 Есть ли зависимость между семейным положением и возвратом кредита в срок?"
   ]
  },
  {
   "cell_type": "code",
   "execution_count": 23,
   "id": "900e0b71",
   "metadata": {
    "deletable": false,
    "id": "dc3f7ee8"
   },
   "outputs": [
    {
     "data": {
      "text/html": [
       "<div>\n",
       "<style scoped>\n",
       "    .dataframe tbody tr th:only-of-type {\n",
       "        vertical-align: middle;\n",
       "    }\n",
       "\n",
       "    .dataframe tbody tr th {\n",
       "        vertical-align: top;\n",
       "    }\n",
       "\n",
       "    .dataframe thead th {\n",
       "        text-align: right;\n",
       "    }\n",
       "</style>\n",
       "<table border=\"1\" class=\"dataframe\">\n",
       "  <thead>\n",
       "    <tr style=\"text-align: right;\">\n",
       "      <th></th>\n",
       "      <th>count</th>\n",
       "      <th>sum</th>\n",
       "      <th>mean</th>\n",
       "      <th>repayment_rate</th>\n",
       "      <th>debt_ratio</th>\n",
       "    </tr>\n",
       "    <tr>\n",
       "      <th>family_status</th>\n",
       "      <th></th>\n",
       "      <th></th>\n",
       "      <th></th>\n",
       "      <th></th>\n",
       "      <th></th>\n",
       "    </tr>\n",
       "  </thead>\n",
       "  <tbody>\n",
       "    <tr>\n",
       "      <th>Не женат / не замужем</th>\n",
       "      <td>2796</td>\n",
       "      <td>273</td>\n",
       "      <td>0.097639</td>\n",
       "      <td>90.236052</td>\n",
       "      <td>9.763948</td>\n",
       "    </tr>\n",
       "    <tr>\n",
       "      <th>в разводе</th>\n",
       "      <td>1189</td>\n",
       "      <td>84</td>\n",
       "      <td>0.070648</td>\n",
       "      <td>92.935240</td>\n",
       "      <td>7.064760</td>\n",
       "    </tr>\n",
       "    <tr>\n",
       "      <th>вдовец / вдова</th>\n",
       "      <td>951</td>\n",
       "      <td>63</td>\n",
       "      <td>0.066246</td>\n",
       "      <td>93.375394</td>\n",
       "      <td>6.624606</td>\n",
       "    </tr>\n",
       "    <tr>\n",
       "      <th>гражданский брак</th>\n",
       "      <td>4134</td>\n",
       "      <td>385</td>\n",
       "      <td>0.093130</td>\n",
       "      <td>90.686986</td>\n",
       "      <td>9.313014</td>\n",
       "    </tr>\n",
       "    <tr>\n",
       "      <th>женат / замужем</th>\n",
       "      <td>12261</td>\n",
       "      <td>927</td>\n",
       "      <td>0.075606</td>\n",
       "      <td>92.439442</td>\n",
       "      <td>7.560558</td>\n",
       "    </tr>\n",
       "  </tbody>\n",
       "</table>\n",
       "</div>"
      ],
      "text/plain": [
       "                       count  sum      mean  repayment_rate  debt_ratio\n",
       "family_status                                                          \n",
       "Не женат / не замужем   2796  273  0.097639       90.236052    9.763948\n",
       "в разводе               1189   84  0.070648       92.935240    7.064760\n",
       "вдовец / вдова           951   63  0.066246       93.375394    6.624606\n",
       "гражданский брак        4134  385  0.093130       90.686986    9.313014\n",
       "женат / замужем        12261  927  0.075606       92.439442    7.560558"
      ]
     },
     "metadata": {},
     "output_type": "display_data"
    }
   ],
   "source": [
    "\n",
    "family_debt = data.groupby('family_status')['debt'].agg(['count', 'sum', 'mean'])\n",
    "family_debt['repayment_rate'] = (1 - family_debt['sum'] / family_debt['count']) * 100 \n",
    "family_debt['debt_ratio'] = family_debt['mean'] * 100  \n",
    "display(family_debt)"
   ]
  },
  {
   "cell_type": "markdown",
   "id": "a49f933d",
   "metadata": {},
   "source": [
    "<div class=\"alert alert-success\">\n",
    "<font size=\"5\"><b>Комментарий ревьюера</b></font>\n",
    "  \n",
    "Совет: Круто, что ты знаешь метод agg. В него также можно добавить и метод mean для нахождения доли должников в каждой из групп. \n",
    "\n",
    "</div>"
   ]
  },
  {
   "cell_type": "markdown",
   "id": "a8903378",
   "metadata": {
    "deletable": false,
    "id": "1cef7837"
   },
   "source": [
    "**Вывод:** \n",
    "Клиенты в разводе показывают процент возврата в срок 92.94%, что говорит о достаточно высоком уровне возвратов.\n",
    "Вдовцы/вдовы имеют наивысший процент возврата (93.38%).\n",
    "Клиенты, не состоящие в браке, показывают самый низкий процент возврата (90.24%).\n",
    "В общем, данные показывают, что семейное положение может оказывать влияние на возврат кредита, но разница в процентах не является критической."
   ]
  },
  {
   "cell_type": "markdown",
   "id": "27bcf2d2",
   "metadata": {},
   "source": [
    "<div class=\"alert alert-success\">\n",
    "<font size=\"5\"><b>Комментарий ревьюера</b></font>\n",
    "\n",
    "Успех: Подумай также и над причинами получения такого результата. \n",
    "\n",
    "</div>"
   ]
  },
  {
   "cell_type": "markdown",
   "id": "ed67c847",
   "metadata": {
    "deletable": false,
    "editable": false,
    "id": "1e8b2fca"
   },
   "source": [
    "#### 3.3 Есть ли зависимость между уровнем дохода и возвратом кредита в срок?"
   ]
  },
  {
   "cell_type": "code",
   "execution_count": 26,
   "id": "972a5e60",
   "metadata": {
    "deletable": false,
    "id": "cd7e3720"
   },
   "outputs": [
    {
     "data": {
      "text/html": [
       "<div>\n",
       "<style scoped>\n",
       "    .dataframe tbody tr th:only-of-type {\n",
       "        vertical-align: middle;\n",
       "    }\n",
       "\n",
       "    .dataframe tbody tr th {\n",
       "        vertical-align: top;\n",
       "    }\n",
       "\n",
       "    .dataframe thead th {\n",
       "        text-align: right;\n",
       "    }\n",
       "</style>\n",
       "<table border=\"1\" class=\"dataframe\">\n",
       "  <thead>\n",
       "    <tr style=\"text-align: right;\">\n",
       "      <th></th>\n",
       "      <th>count</th>\n",
       "      <th>sum</th>\n",
       "      <th>repayment_rate</th>\n",
       "    </tr>\n",
       "    <tr>\n",
       "      <th>total_income</th>\n",
       "      <th></th>\n",
       "      <th></th>\n",
       "      <th></th>\n",
       "    </tr>\n",
       "  </thead>\n",
       "  <tbody>\n",
       "    <tr>\n",
       "      <th>A</th>\n",
       "      <td>25</td>\n",
       "      <td>2</td>\n",
       "      <td>92.000000</td>\n",
       "    </tr>\n",
       "    <tr>\n",
       "      <th>B</th>\n",
       "      <td>5014</td>\n",
       "      <td>354</td>\n",
       "      <td>92.939769</td>\n",
       "    </tr>\n",
       "    <tr>\n",
       "      <th>C</th>\n",
       "      <td>15921</td>\n",
       "      <td>1353</td>\n",
       "      <td>91.501790</td>\n",
       "    </tr>\n",
       "    <tr>\n",
       "      <th>D</th>\n",
       "      <td>349</td>\n",
       "      <td>21</td>\n",
       "      <td>93.982808</td>\n",
       "    </tr>\n",
       "    <tr>\n",
       "      <th>E</th>\n",
       "      <td>22</td>\n",
       "      <td>2</td>\n",
       "      <td>90.909091</td>\n",
       "    </tr>\n",
       "  </tbody>\n",
       "</table>\n",
       "</div>"
      ],
      "text/plain": [
       "              count   sum  repayment_rate\n",
       "total_income                             \n",
       "A                25     2       92.000000\n",
       "B              5014   354       92.939769\n",
       "C             15921  1353       91.501790\n",
       "D               349    21       93.982808\n",
       "E                22     2       90.909091"
      ]
     },
     "metadata": {},
     "output_type": "display_data"
    }
   ],
   "source": [
    "\n",
    "data['total_income'] = data['total_income'].apply(categorize_income)\n",
    "income_debt = data.groupby('total_income')['debt'].agg(['count', 'sum'])\n",
    "income_debt['repayment_rate'] = (1 - income_debt['sum'] / income_debt['count']) * 100\n",
    "display(income_debt) # Ваш код будет здесь. Вы можете создавать новые ячейки."
   ]
  },
  {
   "cell_type": "markdown",
   "id": "deff8045",
   "metadata": {},
   "source": [
    "<div class=\"alert alert-warning\">\n",
    "<font size=\"5\"><b>Комментарий ревьюера</b></font>\n",
    "\n",
    "Совет: Не совсем понимаю, зачем повторно проводиьт категоризацию. Мы же ее осуществили ранее, здесь делать ее повторно не нужно. \n",
    "\n",
    "</div>"
   ]
  },
  {
   "cell_type": "markdown",
   "id": "2be28d03",
   "metadata": {
    "deletable": false,
    "id": "e8593def"
   },
   "source": [
    "**Вывод:** \n",
    "Категория A (самый высокий доход):\n",
    "\n",
    "Уровень дохода A имеет 25 кредитов, из которых 2 не были возвращены, что соответствует проценту возврата 92.00%. Это высокий процент, но выборка мала, что может влиять на надежность результатов.\n",
    "Категория B:\n",
    "\n",
    "Наиболее крупная группа с 5014 кредитами и процентом возврата 92.94%. Это подтверждает, что клиенты со средним и высоким доходом имеют высокий уровень надежности.\n",
    "Категория C:\n",
    "\n",
    "Здесь наблюдается 15921 кредит, и процент возврата составляет 91.50%. Несмотря на большое количество кредитов, этот процент ниже, чем в категориях B и D, что может указывать на некоторые риски.\n",
    "Категория D:\n",
    "\n",
    "Процент возврата в срок 93.98% — самый высокий среди всех категорий. Это может указывать на то, что клиенты с доходом в этом диапазоне более надежны.\n",
    "Категория E (самый низкий доход):\n",
    "\n",
    "Имеет самый низкий уровень с 22 кредитами и процентом возврата 90.91%. Это также может указывать на риск невозврата среди клиентов с низким доходом.\n",
    "\n",
    "В целом, клиенты с более высоким доходом имеют более высокий процент возврата кредита. Однако стоит отметить, что категория A имеет малое количество кредитов, что делает результаты менее надежными.\n",
    "Низкий доход: Клиенты с низким доходом (категория E) показывают более низкий процент возврата, что может указывать на потенциальные риски для кредиторов."
   ]
  },
  {
   "cell_type": "markdown",
   "id": "f73f280b",
   "metadata": {},
   "source": [
    "<div class=\"alert alert-success\">\n",
    "<font size=\"5\"><b>Комментарий ревьюера</b></font>\n",
    "\n",
    "Успех: Соглашусь, не все группы имеют достаточное число клиентов для построения по ним надежных выводов. \n",
    "\n",
    "</div>"
   ]
  },
  {
   "cell_type": "markdown",
   "id": "e0cc6c4f",
   "metadata": {
    "deletable": false,
    "editable": false,
    "id": "99ecbd1f"
   },
   "source": [
    "#### 3.4 Как разные цели кредита влияют на его возврат в срок?"
   ]
  },
  {
   "cell_type": "code",
   "execution_count": 31,
   "id": "5c177354",
   "metadata": {
    "deletable": false,
    "id": "2b687290"
   },
   "outputs": [
    {
     "data": {
      "text/html": [
       "<div>\n",
       "<style scoped>\n",
       "    .dataframe tbody tr th:only-of-type {\n",
       "        vertical-align: middle;\n",
       "    }\n",
       "\n",
       "    .dataframe tbody tr th {\n",
       "        vertical-align: top;\n",
       "    }\n",
       "\n",
       "    .dataframe thead th {\n",
       "        text-align: right;\n",
       "    }\n",
       "</style>\n",
       "<table border=\"1\" class=\"dataframe\">\n",
       "  <thead>\n",
       "    <tr style=\"text-align: right;\">\n",
       "      <th></th>\n",
       "      <th>total_loans</th>\n",
       "      <th>total_debts</th>\n",
       "      <th>debt_ratio</th>\n",
       "      <th>repayment_rate</th>\n",
       "    </tr>\n",
       "    <tr>\n",
       "      <th>purpose_category</th>\n",
       "      <th></th>\n",
       "      <th></th>\n",
       "      <th></th>\n",
       "      <th></th>\n",
       "    </tr>\n",
       "  </thead>\n",
       "  <tbody>\n",
       "    <tr>\n",
       "      <th>операции с автомобилем</th>\n",
       "      <td>4279</td>\n",
       "      <td>400</td>\n",
       "      <td>0.093480</td>\n",
       "      <td>90.652022</td>\n",
       "    </tr>\n",
       "    <tr>\n",
       "      <th>операции с недвижимостью</th>\n",
       "      <td>10751</td>\n",
       "      <td>780</td>\n",
       "      <td>0.072551</td>\n",
       "      <td>92.744861</td>\n",
       "    </tr>\n",
       "    <tr>\n",
       "      <th>получение образования</th>\n",
       "      <td>3988</td>\n",
       "      <td>369</td>\n",
       "      <td>0.092528</td>\n",
       "      <td>90.747242</td>\n",
       "    </tr>\n",
       "    <tr>\n",
       "      <th>проведение свадьбы</th>\n",
       "      <td>2313</td>\n",
       "      <td>183</td>\n",
       "      <td>0.079118</td>\n",
       "      <td>92.088197</td>\n",
       "    </tr>\n",
       "  </tbody>\n",
       "</table>\n",
       "</div>"
      ],
      "text/plain": [
       "                          total_loans  total_debts  debt_ratio  repayment_rate\n",
       "purpose_category                                                              \n",
       "операции с автомобилем           4279          400    0.093480       90.652022\n",
       "операции с недвижимостью        10751          780    0.072551       92.744861\n",
       "получение образования            3988          369    0.092528       90.747242\n",
       "проведение свадьбы               2313          183    0.079118       92.088197"
      ]
     },
     "metadata": {},
     "output_type": "display_data"
    }
   ],
   "source": [
    "data['purpose_category'] = data['purpose'].apply(categorize_purpose)\n",
    "\n",
    "purpose_debt_pivot = data.pivot_table(\n",
    "    index='purpose_category',               \n",
    "    values='debt',                         \n",
    "    aggfunc=['count', 'sum', 'mean']       \n",
    ")\n",
    "\n",
    "purpose_debt_pivot.columns = ['total_loans', 'total_debts', 'debt_ratio']\n",
    "\n",
    "\n",
    "purpose_debt_pivot['repayment_rate'] = (1 - purpose_debt_pivot['total_debts'] / purpose_debt_pivot['total_loans']) * 100\n",
    "\n",
    "display(purpose_debt_pivot) # Ваш код будет здесь. Вы можете создавать новые ячейки."
   ]
  },
  {
   "cell_type": "markdown",
   "id": "d032265c",
   "metadata": {},
   "source": [
    "<div class=\"alert alert-warning\">\n",
    "<font size=\"5\"><b>Комментарий ревьюера</b></font>\n",
    "\n",
    "Совет: Аналогично и с категоризацией данного параметра. Проводить повторно ее не стоит. Она уже сделана ранее. \n",
    "\n",
    "</div>"
   ]
  },
  {
   "cell_type": "markdown",
   "id": "92164230",
   "metadata": {
    "deletable": false,
    "id": "b4bb2ce6"
   },
   "source": [
    "**Вывод:** \n",
    "Операции с автомобилем:\n",
    "С количеством 4279 кредитов, 400 из которых не были возвращены, процент возврата составляет 90.65%. Это довольно низкий процент, что может указывать на определенные риски при кредитовании под автомобили.\n",
    "\n",
    "Операции с недвижимостью:\n",
    "Эта категория имеет наибольшее количество кредитов (10751) и наименьший процент невозвратов с процентом возврата 92.74%. Это говорит о том, что клиенты, берущие кредиты на недвижимость, в целом более надежны.\n",
    "\n",
    "Получение образования:\n",
    "С 3988 кредитами процент возврата составляет 90.75%. Этот показатель схож с процентом возврата по кредитам на автомобили, что может свидетельствовать о рисках в данной категории.\n",
    "\n",
    "Проведение свадьбы:\n",
    "Процент возврата в этой категории составляет 92.09%, что указывает на то, что клиенты, берущие кредиты для свадебных мероприятий, также имеют высокий уровень надежности.\n",
    "\n",
    "Клиенты, берущие кредиты на операции с недвижимостью, показывают наиболее высокий процент возврата, что делает эту категорию менее рискованной. В то время как кредиты на автомобили имеют самый низкий процент возврата."
   ]
  },
  {
   "cell_type": "markdown",
   "id": "6d83109f",
   "metadata": {},
   "source": [
    "<div class=\"alert alert-danger\">\n",
    "<font size=\"5\"><b>Комментарий ревьюера</b></font>\n",
    "\n",
    "Ошибка: Вывод правильный. Но попрошу все же доработать пункт. На данном шаге рекомендуется использовать метод сводных таблиц (pivot_table()). Однако он является аналогом метода groupby(). Изучи метод сводных таблиц и примени его хотя бы в одном пункте анализа.\n",
    "\n",
    "</div>"
   ]
  },
  {
   "cell_type": "markdown",
   "id": "1ac691c4",
   "metadata": {
    "deletable": false,
    "editable": false,
    "id": "09c3ac4c"
   },
   "source": [
    "#### 3.5 Приведите возможные причины появления пропусков в исходных данных."
   ]
  },
  {
   "cell_type": "markdown",
   "id": "3d831f57",
   "metadata": {
    "deletable": false,
    "id": "9da2ceda"
   },
   "source": [
    "*Ответ:* человеческий фактор, технические сбои, несовместимости при миграции данных."
   ]
  },
  {
   "cell_type": "markdown",
   "id": "d8cb02e5",
   "metadata": {},
   "source": [
    "<div class=\"alert alert-success\">\n",
    "<font size=\"5\"><b>Комментарий ревьюера</b></font>\n",
    "\n",
    "Успех: Да, вполне возможные причины. \n",
    "\n",
    "</div>"
   ]
  },
  {
   "cell_type": "markdown",
   "id": "3cdf07ec",
   "metadata": {
    "deletable": false,
    "editable": false,
    "id": "7b0487d6"
   },
   "source": [
    "#### 3.6 Объясните, почему заполнить пропуски медианным значением — лучшее решение для количественных переменных."
   ]
  },
  {
   "cell_type": "markdown",
   "id": "79b52344",
   "metadata": {
    "deletable": false,
    "id": "7ecf2b8e"
   },
   "source": [
    "*Ответ:* Медиана является репрезентацией середины выборки то есть центр данных. В то время как срединное значение будет будет более подвержено искажениям при аномально высоких или низких значениях."
   ]
  },
  {
   "cell_type": "markdown",
   "id": "6b992f16",
   "metadata": {},
   "source": [
    "<div class=\"alert alert-success\">\n",
    "<font size=\"5\"><b>Комментарий ревьюера</b></font>\n",
    "\n",
    "Успех: Все верно, медиана более устойчива к наличию выбросов в данных.\n",
    "\n",
    "</div>"
   ]
  },
  {
   "cell_type": "markdown",
   "id": "e07190da",
   "metadata": {
    "deletable": false,
    "editable": false,
    "id": "6db5255a"
   },
   "source": [
    "### Шаг 4: общий вывод."
   ]
  },
  {
   "cell_type": "markdown",
   "id": "fd69a33e",
   "metadata": {
    "deletable": false,
    "id": "bad65432"
   },
   "source": [
    "Напишите ваш общий вывод.\n",
    "\n",
    "Исследование зависимости различных факторов, таких как количество детей, семейное положение, уровень дохода и цели кредита, от возврата кредита в срок предоставило ценные данные, которые могут быть полезны для кредитных учреждений и других заинтересованных сторон. Вот ключевые выводы из анализа:\n",
    "\n",
    "Количество детей:\n",
    "Анализ показал, что процент возврата кредита варьируется в зависимости от количества детей. В общем, заемщики с меньшим количеством детей показывают более высокий уровень возврата, что может свидетельствовать о более низких финансовых нагрузках и, следовательно, о большей надежности.\n",
    "\n",
    "Семейное положение:\n",
    "Результаты показали, что семейное положение влияет на возврат кредита. Заемщики, состоящие в браке или находящиеся в гражданском браке, имеют более высокий процент возврата по сравнению с теми, кто не состоит в браке. Это может указывать на более стабильные финансовые условия и большую ответственность.\n",
    "\n",
    "Уровень дохода:\n",
    "Проанализировав доходные категории, можно заметить, что заемщики с высоким доходом показывают лучший уровень возврата. Это подтверждает общепринятое мнение о том, что финансовая стабильность и доходы напрямую влияют на возможность выполнения долговых обязательств.\n",
    "\n",
    "Цели кредита:\n",
    "Разные цели кредита также влияют на возврат в срок. Например, кредиты на недвижимость демонстрируют более высокий процент возврата по сравнению с кредитами на автомобили. Это может свидетельствовать о том, что заемщики, вкладывающие средства в недвижимость, более серьезно подходят к своим финансовым обязательствам.\n"
   ]
  },
  {
   "cell_type": "markdown",
   "id": "ec667cd8",
   "metadata": {},
   "source": [
    "<div class=\"alert alert-success\">\n",
    "<font size=\"5\"><b>Комментарий ревьюера</b></font>\n",
    "\n",
    "Успех: Выводы описаны грамотно. Приведены ответы на главные вопросы проекта. В выводах можно приводить полученные ранее значения. Также можно расписать все, что было сделано в ходе проведения работы. Еще лучше будет, если приведешь рекомендации для компании по дальнейшим действиям. \n",
    "\n",
    "</div>"
   ]
  },
  {
   "cell_type": "markdown",
   "id": "b5c6ebbd",
   "metadata": {},
   "source": [
    "<div class=\"alert alert-info\">\n",
    "<font size=\"5\"><b>Комментарий ревьюера</b></font>\n",
    "\n",
    "Ты проделала большую работу, молодец! Ты овладела важными на данном этапе обучения инструментами, а также довольно качественно их используешь. Критических замечаний немного. Мне важно лишь убедиться в том, что метод сводных таблиц ты освоила. Также есть несколько желтых комментариев. Думаю, исправить и их тебе не составит труда. Жду твою работу :)\n",
    "\n",
    "</div>"
   ]
  }
 ],
 "metadata": {
  "ExecuteTimeLog": [
   {
    "duration": 48,
    "start_time": "2024-08-03T11:14:41.103Z"
   },
   {
    "duration": 7,
    "start_time": "2024-08-03T11:15:25.264Z"
   },
   {
    "duration": 711,
    "start_time": "2024-08-03T11:15:46.107Z"
   },
   {
    "duration": 22,
    "start_time": "2024-08-03T11:15:46.820Z"
   },
   {
    "duration": 28,
    "start_time": "2024-08-03T11:15:46.843Z"
   },
   {
    "duration": 30,
    "start_time": "2024-08-03T11:15:46.872Z"
   },
   {
    "duration": 34,
    "start_time": "2024-08-03T11:15:46.904Z"
   },
   {
    "duration": 3,
    "start_time": "2024-08-03T11:15:46.940Z"
   },
   {
    "duration": 13,
    "start_time": "2024-08-03T11:15:46.944Z"
   },
   {
    "duration": 4,
    "start_time": "2024-08-03T11:15:46.958Z"
   },
   {
    "duration": 23,
    "start_time": "2024-08-03T11:15:46.964Z"
   },
   {
    "duration": 6,
    "start_time": "2024-08-03T11:15:46.997Z"
   },
   {
    "duration": 36,
    "start_time": "2024-08-03T11:15:47.004Z"
   },
   {
    "duration": 9,
    "start_time": "2024-08-03T11:15:47.042Z"
   },
   {
    "duration": 4,
    "start_time": "2024-08-03T11:15:47.052Z"
   },
   {
    "duration": 29,
    "start_time": "2024-08-03T11:15:47.058Z"
   },
   {
    "duration": 20,
    "start_time": "2024-08-03T11:15:47.097Z"
   },
   {
    "duration": 17,
    "start_time": "2024-08-03T11:15:47.118Z"
   },
   {
    "duration": 4,
    "start_time": "2024-08-03T11:15:47.136Z"
   },
   {
    "duration": 12,
    "start_time": "2024-08-03T11:15:47.142Z"
   },
   {
    "duration": 6,
    "start_time": "2024-08-03T11:15:47.155Z"
   },
   {
    "duration": 26,
    "start_time": "2024-08-03T11:15:47.162Z"
   },
   {
    "duration": 14,
    "start_time": "2024-08-03T11:15:47.190Z"
   },
   {
    "duration": 33,
    "start_time": "2024-08-03T11:15:47.206Z"
   },
   {
    "duration": 4,
    "start_time": "2024-08-03T11:15:47.241Z"
   },
   {
    "duration": 3,
    "start_time": "2024-08-03T11:15:47.246Z"
   },
   {
    "duration": 4,
    "start_time": "2024-08-03T11:15:47.250Z"
   },
   {
    "duration": 9,
    "start_time": "2024-08-03T11:16:13.605Z"
   },
   {
    "duration": 77,
    "start_time": "2024-08-03T11:19:53.554Z"
   },
   {
    "duration": 10,
    "start_time": "2024-08-03T11:21:05.101Z"
   },
   {
    "duration": 11,
    "start_time": "2024-08-03T11:26:28.819Z"
   },
   {
    "duration": 7,
    "start_time": "2024-08-03T11:43:21.122Z"
   },
   {
    "duration": 16,
    "start_time": "2024-08-03T11:43:38.391Z"
   },
   {
    "duration": 11,
    "start_time": "2024-08-03T11:44:40.723Z"
   },
   {
    "duration": 14,
    "start_time": "2024-08-03T11:44:56.866Z"
   },
   {
    "duration": 9,
    "start_time": "2024-08-03T11:51:35.529Z"
   },
   {
    "duration": 27,
    "start_time": "2024-08-03T11:51:45.623Z"
   },
   {
    "duration": 10,
    "start_time": "2024-08-03T11:57:26.541Z"
   },
   {
    "duration": 20,
    "start_time": "2024-08-03T11:58:26.069Z"
   },
   {
    "duration": 52,
    "start_time": "2024-08-03T12:00:59.137Z"
   },
   {
    "duration": 25,
    "start_time": "2024-08-03T12:01:12.457Z"
   },
   {
    "duration": 524,
    "start_time": "2024-08-03T17:19:56.106Z"
   },
   {
    "duration": 25,
    "start_time": "2024-08-03T17:19:56.632Z"
   },
   {
    "duration": 17,
    "start_time": "2024-08-03T17:19:56.659Z"
   },
   {
    "duration": 11,
    "start_time": "2024-08-03T17:19:56.678Z"
   },
   {
    "duration": 53,
    "start_time": "2024-08-03T17:19:56.691Z"
   },
   {
    "duration": 10,
    "start_time": "2024-08-03T17:19:56.745Z"
   },
   {
    "duration": 8,
    "start_time": "2024-08-03T17:19:56.757Z"
   },
   {
    "duration": 11,
    "start_time": "2024-08-03T17:19:56.766Z"
   },
   {
    "duration": 10,
    "start_time": "2024-08-03T17:19:56.778Z"
   },
   {
    "duration": 4,
    "start_time": "2024-08-03T17:19:56.790Z"
   },
   {
    "duration": 59,
    "start_time": "2024-08-03T17:19:56.796Z"
   },
   {
    "duration": 11,
    "start_time": "2024-08-03T17:19:56.857Z"
   },
   {
    "duration": 4,
    "start_time": "2024-08-03T17:19:56.870Z"
   },
   {
    "duration": 12,
    "start_time": "2024-08-03T17:19:56.876Z"
   },
   {
    "duration": 29,
    "start_time": "2024-08-03T17:19:56.890Z"
   },
   {
    "duration": 42,
    "start_time": "2024-08-03T17:19:56.920Z"
   },
   {
    "duration": 3,
    "start_time": "2024-08-03T17:19:56.963Z"
   },
   {
    "duration": 22,
    "start_time": "2024-08-03T17:19:56.968Z"
   },
   {
    "duration": 29,
    "start_time": "2024-08-03T17:19:56.992Z"
   },
   {
    "duration": 4,
    "start_time": "2024-08-03T17:19:57.022Z"
   },
   {
    "duration": 15,
    "start_time": "2024-08-03T17:19:57.027Z"
   },
   {
    "duration": 11,
    "start_time": "2024-08-03T17:19:57.044Z"
   },
   {
    "duration": 11,
    "start_time": "2024-08-03T17:19:57.057Z"
   },
   {
    "duration": 16,
    "start_time": "2024-08-03T17:19:57.070Z"
   },
   {
    "duration": 23,
    "start_time": "2024-08-03T17:19:57.088Z"
   },
   {
    "duration": 52,
    "start_time": "2024-08-03T18:49:03.867Z"
   },
   {
    "duration": 524,
    "start_time": "2024-08-03T18:49:10.092Z"
   },
   {
    "duration": 24,
    "start_time": "2024-08-03T18:49:10.618Z"
   },
   {
    "duration": 61,
    "start_time": "2024-08-03T18:49:10.644Z"
   },
   {
    "duration": 13,
    "start_time": "2024-08-03T18:49:10.708Z"
   },
   {
    "duration": 37,
    "start_time": "2024-08-03T18:49:10.723Z"
   },
   {
    "duration": 3,
    "start_time": "2024-08-03T18:49:10.762Z"
   },
   {
    "duration": 15,
    "start_time": "2024-08-03T18:49:10.767Z"
   },
   {
    "duration": 5,
    "start_time": "2024-08-03T18:49:10.783Z"
   },
   {
    "duration": 7,
    "start_time": "2024-08-03T18:49:10.790Z"
   },
   {
    "duration": 23,
    "start_time": "2024-08-03T18:49:10.800Z"
   },
   {
    "duration": 49,
    "start_time": "2024-08-03T18:49:10.824Z"
   },
   {
    "duration": 11,
    "start_time": "2024-08-03T18:49:10.874Z"
   },
   {
    "duration": 4,
    "start_time": "2024-08-03T18:49:10.886Z"
   },
   {
    "duration": 13,
    "start_time": "2024-08-03T18:49:10.891Z"
   },
   {
    "duration": 40,
    "start_time": "2024-08-03T18:49:10.906Z"
   },
   {
    "duration": 17,
    "start_time": "2024-08-03T18:49:10.948Z"
   },
   {
    "duration": 4,
    "start_time": "2024-08-03T18:49:10.966Z"
   },
   {
    "duration": 11,
    "start_time": "2024-08-03T18:49:10.972Z"
   },
   {
    "duration": 6,
    "start_time": "2024-08-03T18:49:10.985Z"
   },
   {
    "duration": 4,
    "start_time": "2024-08-03T18:49:10.993Z"
   },
   {
    "duration": 16,
    "start_time": "2024-08-03T18:49:10.999Z"
   },
   {
    "duration": 13,
    "start_time": "2024-08-03T18:49:11.045Z"
   },
   {
    "duration": 10,
    "start_time": "2024-08-03T18:49:11.059Z"
   },
   {
    "duration": 18,
    "start_time": "2024-08-03T18:49:11.070Z"
   },
   {
    "duration": 26,
    "start_time": "2024-08-03T18:49:11.089Z"
   },
   {
    "duration": 13,
    "start_time": "2024-08-03T18:49:53.361Z"
   },
   {
    "duration": 16,
    "start_time": "2024-08-03T18:53:49.612Z"
   },
   {
    "duration": 345,
    "start_time": "2024-08-03T18:57:02.089Z"
   },
   {
    "duration": 503,
    "start_time": "2024-08-03T18:57:19.554Z"
   },
   {
    "duration": 29,
    "start_time": "2024-08-03T18:57:20.059Z"
   },
   {
    "duration": 20,
    "start_time": "2024-08-03T18:57:20.090Z"
   },
   {
    "duration": 33,
    "start_time": "2024-08-03T18:57:20.113Z"
   },
   {
    "duration": 38,
    "start_time": "2024-08-03T18:57:20.149Z"
   },
   {
    "duration": 3,
    "start_time": "2024-08-03T18:57:20.189Z"
   },
   {
    "duration": 20,
    "start_time": "2024-08-03T18:57:20.194Z"
   },
   {
    "duration": 4,
    "start_time": "2024-08-03T18:57:20.216Z"
   },
   {
    "duration": 31,
    "start_time": "2024-08-03T18:57:20.222Z"
   },
   {
    "duration": 14,
    "start_time": "2024-08-03T18:57:20.256Z"
   },
   {
    "duration": 50,
    "start_time": "2024-08-03T18:57:20.272Z"
   },
   {
    "duration": 33,
    "start_time": "2024-08-03T18:57:20.324Z"
   },
   {
    "duration": 22,
    "start_time": "2024-08-03T18:57:20.359Z"
   },
   {
    "duration": 22,
    "start_time": "2024-08-03T18:57:20.383Z"
   },
   {
    "duration": 19,
    "start_time": "2024-08-03T18:57:20.407Z"
   },
   {
    "duration": 17,
    "start_time": "2024-08-03T18:57:20.428Z"
   },
   {
    "duration": 3,
    "start_time": "2024-08-03T18:57:20.447Z"
   },
   {
    "duration": 22,
    "start_time": "2024-08-03T18:57:20.452Z"
   },
   {
    "duration": 17,
    "start_time": "2024-08-03T18:57:20.476Z"
   },
   {
    "duration": 9,
    "start_time": "2024-08-03T18:57:20.494Z"
   },
   {
    "duration": 14,
    "start_time": "2024-08-03T18:57:20.504Z"
   },
   {
    "duration": 16,
    "start_time": "2024-08-03T18:57:20.519Z"
   },
   {
    "duration": 16,
    "start_time": "2024-08-03T18:57:20.536Z"
   },
   {
    "duration": 32,
    "start_time": "2024-08-03T18:57:20.554Z"
   },
   {
    "duration": 25,
    "start_time": "2024-08-03T18:57:20.588Z"
   },
   {
    "duration": 390,
    "start_time": "2024-08-03T19:08:53.960Z"
   },
   {
    "duration": 477,
    "start_time": "2024-08-03T19:08:59.574Z"
   },
   {
    "duration": 24,
    "start_time": "2024-08-03T19:09:00.055Z"
   },
   {
    "duration": 97,
    "start_time": "2024-08-03T19:09:00.081Z"
   },
   {
    "duration": 357,
    "start_time": "2024-08-03T19:09:00.180Z"
   },
   {
    "duration": 502,
    "start_time": "2024-08-03T19:09:00.539Z"
   },
   {
    "duration": 252,
    "start_time": "2024-08-03T19:09:01.043Z"
   },
   {
    "duration": 66,
    "start_time": "2024-08-03T19:09:01.296Z"
   },
   {
    "duration": 53,
    "start_time": "2024-08-03T19:09:01.363Z"
   },
   {
    "duration": 46,
    "start_time": "2024-08-03T19:09:01.418Z"
   },
   {
    "duration": 32,
    "start_time": "2024-08-03T19:09:01.467Z"
   },
   {
    "duration": 98,
    "start_time": "2024-08-03T19:09:01.500Z"
   },
   {
    "duration": 197,
    "start_time": "2024-08-03T19:09:01.600Z"
   },
   {
    "duration": 164,
    "start_time": "2024-08-03T19:09:01.799Z"
   },
   {
    "duration": 194,
    "start_time": "2024-08-03T19:09:01.965Z"
   },
   {
    "duration": 164,
    "start_time": "2024-08-03T19:09:02.161Z"
   },
   {
    "duration": 129,
    "start_time": "2024-08-03T19:09:02.326Z"
   },
   {
    "duration": 776,
    "start_time": "2024-08-03T19:09:02.457Z"
   },
   {
    "duration": 63,
    "start_time": "2024-08-03T19:09:03.235Z"
   },
   {
    "duration": 13,
    "start_time": "2024-08-03T19:09:03.300Z"
   },
   {
    "duration": 5,
    "start_time": "2024-08-03T19:09:03.314Z"
   },
   {
    "duration": 26,
    "start_time": "2024-08-03T19:09:03.320Z"
   },
   {
    "duration": 30,
    "start_time": "2024-08-03T19:09:03.347Z"
   },
   {
    "duration": 14,
    "start_time": "2024-08-03T19:09:03.379Z"
   },
   {
    "duration": 20,
    "start_time": "2024-08-03T19:09:03.394Z"
   },
   {
    "duration": 72,
    "start_time": "2024-08-03T19:09:03.416Z"
   },
   {
    "duration": 14,
    "start_time": "2024-08-03T19:09:43.395Z"
   },
   {
    "duration": 531,
    "start_time": "2024-08-03T19:10:00.466Z"
   },
   {
    "duration": 23,
    "start_time": "2024-08-03T19:10:00.999Z"
   },
   {
    "duration": 201,
    "start_time": "2024-08-03T19:10:01.024Z"
   },
   {
    "duration": 75,
    "start_time": "2024-08-03T19:10:01.227Z"
   },
   {
    "duration": 76,
    "start_time": "2024-08-03T19:10:01.304Z"
   },
   {
    "duration": 265,
    "start_time": "2024-08-03T19:10:01.382Z"
   },
   {
    "duration": 630,
    "start_time": "2024-08-03T19:10:01.649Z"
   },
   {
    "duration": 126,
    "start_time": "2024-08-03T19:10:02.281Z"
   },
   {
    "duration": 84,
    "start_time": "2024-08-03T19:10:02.409Z"
   },
   {
    "duration": 358,
    "start_time": "2024-08-03T19:10:02.495Z"
   },
   {
    "duration": 374,
    "start_time": "2024-08-03T19:10:02.855Z"
   },
   {
    "duration": 161,
    "start_time": "2024-08-03T19:10:03.231Z"
   },
   {
    "duration": 13,
    "start_time": "2024-08-03T19:10:03.394Z"
   },
   {
    "duration": 27,
    "start_time": "2024-08-03T19:10:03.411Z"
   },
   {
    "duration": 62,
    "start_time": "2024-08-03T19:10:03.440Z"
   },
   {
    "duration": 41,
    "start_time": "2024-08-03T19:10:03.505Z"
   },
   {
    "duration": 18,
    "start_time": "2024-08-03T19:10:03.548Z"
   },
   {
    "duration": 120,
    "start_time": "2024-08-03T19:10:03.569Z"
   },
   {
    "duration": 7,
    "start_time": "2024-08-03T19:10:03.691Z"
   },
   {
    "duration": 11,
    "start_time": "2024-08-03T19:10:03.700Z"
   },
   {
    "duration": 15,
    "start_time": "2024-08-03T19:10:03.712Z"
   },
   {
    "duration": 23,
    "start_time": "2024-08-03T19:10:03.728Z"
   },
   {
    "duration": 15,
    "start_time": "2024-08-03T19:10:03.752Z"
   },
   {
    "duration": 20,
    "start_time": "2024-08-03T19:10:03.769Z"
   },
   {
    "duration": 21,
    "start_time": "2024-08-03T19:10:03.791Z"
   },
   {
    "duration": 19,
    "start_time": "2024-08-03T19:10:37.369Z"
   },
   {
    "duration": 22,
    "start_time": "2024-08-03T19:12:10.345Z"
   },
   {
    "duration": 39,
    "start_time": "2024-08-03T19:12:19.047Z"
   },
   {
    "duration": 48,
    "start_time": "2024-08-03T19:17:27.160Z"
   },
   {
    "duration": 83,
    "start_time": "2024-08-03T19:18:14.027Z"
   },
   {
    "duration": 45,
    "start_time": "2024-08-03T19:18:48.191Z"
   }
  ],
  "colab": {
   "name": "dpp_template_part2.ipynb",
   "provenance": []
  },
  "kernelspec": {
   "display_name": "Python 3 (ipykernel)",
   "language": "python",
   "name": "python3"
  },
  "language_info": {
   "codemirror_mode": {
    "name": "ipython",
    "version": 3
   },
   "file_extension": ".py",
   "mimetype": "text/x-python",
   "name": "python",
   "nbconvert_exporter": "python",
   "pygments_lexer": "ipython3",
   "version": "3.9.5"
  },
  "toc": {
   "base_numbering": 1,
   "nav_menu": {},
   "number_sections": true,
   "sideBar": true,
   "skip_h1_title": true,
   "title_cell": "Table of Contents",
   "title_sidebar": "Contents",
   "toc_cell": false,
   "toc_position": {},
   "toc_section_display": true,
   "toc_window_display": false
  }
 },
 "nbformat": 4,
 "nbformat_minor": 5
}
