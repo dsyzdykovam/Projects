{
 "cells": [
  {
   "cell_type": "markdown",
   "id": "4f11de00",
   "metadata": {
    "deletable": false,
    "editable": false,
    "id": "4f11de00"
   },
   "source": [
    "# Исследование надежности заемщиков"
   ]
  },
  {
   "cell_type": "markdown",
   "id": "f09d6878",
   "metadata": {
    "deletable": false,
    "editable": false,
    "id": "f09d6878"
   },
   "source": [
    "Это первая часть проекта, она будет проверена автоматически. Вторую часть проверит ревьюер. "
   ]
  },
  {
   "cell_type": "markdown",
   "id": "516620ee",
   "metadata": {
    "deletable": false,
    "editable": false,
    "id": "516620ee"
   },
   "source": [
    "## Откройте таблицу и изучите общую информацию о данных"
   ]
  },
  {
   "cell_type": "markdown",
   "id": "76a8a9ce",
   "metadata": {
    "deletable": false,
    "editable": false,
    "id": "76a8a9ce",
    "tags": [
     "start_task"
    ]
   },
   "source": [
    "**Задание 1. Импортируйте библиотеку pandas. Считайте данные из csv-файла в датафрейм и сохраните в переменную `data`. Путь к файлу:**\n",
    "\n",
    "`/datasets/data.csv`"
   ]
  },
  {
   "cell_type": "code",
   "execution_count": 1,
   "id": "fab207d0",
   "metadata": {
    "id": "fab207d0"
   },
   "outputs": [],
   "source": [
    "import pandas as pd # импортируйте библиотеку pandas"
   ]
  },
  {
   "cell_type": "code",
   "execution_count": 2,
   "id": "6c82b607",
   "metadata": {
    "id": "6c82b607"
   },
   "outputs": [],
   "source": [
    "data = pd.read_csv('/datasets/data.csv')# прочитайте csv-файл"
   ]
  },
  {
   "cell_type": "markdown",
   "id": "08bbb5b3",
   "metadata": {
    "deletable": false,
    "editable": false,
    "id": "08bbb5b3",
    "tags": [
     "start_task"
    ]
   },
   "source": [
    "**Задание 2. Выведите первые 20 строчек датафрейма `data` на экран.**"
   ]
  },
  {
   "cell_type": "code",
   "execution_count": 3,
   "id": "4ff33b36",
   "metadata": {
    "id": "4ff33b36"
   },
   "outputs": [
    {
     "data": {
      "text/html": [
       "<div>\n",
       "<style scoped>\n",
       "    .dataframe tbody tr th:only-of-type {\n",
       "        vertical-align: middle;\n",
       "    }\n",
       "\n",
       "    .dataframe tbody tr th {\n",
       "        vertical-align: top;\n",
       "    }\n",
       "\n",
       "    .dataframe thead th {\n",
       "        text-align: right;\n",
       "    }\n",
       "</style>\n",
       "<table border=\"1\" class=\"dataframe\">\n",
       "  <thead>\n",
       "    <tr style=\"text-align: right;\">\n",
       "      <th></th>\n",
       "      <th>children</th>\n",
       "      <th>days_employed</th>\n",
       "      <th>dob_years</th>\n",
       "      <th>education</th>\n",
       "      <th>education_id</th>\n",
       "      <th>family_status</th>\n",
       "      <th>family_status_id</th>\n",
       "      <th>gender</th>\n",
       "      <th>income_type</th>\n",
       "      <th>debt</th>\n",
       "      <th>total_income</th>\n",
       "      <th>purpose</th>\n",
       "    </tr>\n",
       "  </thead>\n",
       "  <tbody>\n",
       "    <tr>\n",
       "      <th>0</th>\n",
       "      <td>1</td>\n",
       "      <td>-8437.673028</td>\n",
       "      <td>42</td>\n",
       "      <td>высшее</td>\n",
       "      <td>0</td>\n",
       "      <td>женат / замужем</td>\n",
       "      <td>0</td>\n",
       "      <td>F</td>\n",
       "      <td>сотрудник</td>\n",
       "      <td>0</td>\n",
       "      <td>253875.639453</td>\n",
       "      <td>покупка жилья</td>\n",
       "    </tr>\n",
       "    <tr>\n",
       "      <th>1</th>\n",
       "      <td>1</td>\n",
       "      <td>-4024.803754</td>\n",
       "      <td>36</td>\n",
       "      <td>среднее</td>\n",
       "      <td>1</td>\n",
       "      <td>женат / замужем</td>\n",
       "      <td>0</td>\n",
       "      <td>F</td>\n",
       "      <td>сотрудник</td>\n",
       "      <td>0</td>\n",
       "      <td>112080.014102</td>\n",
       "      <td>приобретение автомобиля</td>\n",
       "    </tr>\n",
       "    <tr>\n",
       "      <th>2</th>\n",
       "      <td>0</td>\n",
       "      <td>-5623.422610</td>\n",
       "      <td>33</td>\n",
       "      <td>Среднее</td>\n",
       "      <td>1</td>\n",
       "      <td>женат / замужем</td>\n",
       "      <td>0</td>\n",
       "      <td>M</td>\n",
       "      <td>сотрудник</td>\n",
       "      <td>0</td>\n",
       "      <td>145885.952297</td>\n",
       "      <td>покупка жилья</td>\n",
       "    </tr>\n",
       "    <tr>\n",
       "      <th>3</th>\n",
       "      <td>3</td>\n",
       "      <td>-4124.747207</td>\n",
       "      <td>32</td>\n",
       "      <td>среднее</td>\n",
       "      <td>1</td>\n",
       "      <td>женат / замужем</td>\n",
       "      <td>0</td>\n",
       "      <td>M</td>\n",
       "      <td>сотрудник</td>\n",
       "      <td>0</td>\n",
       "      <td>267628.550329</td>\n",
       "      <td>дополнительное образование</td>\n",
       "    </tr>\n",
       "    <tr>\n",
       "      <th>4</th>\n",
       "      <td>0</td>\n",
       "      <td>340266.072047</td>\n",
       "      <td>53</td>\n",
       "      <td>среднее</td>\n",
       "      <td>1</td>\n",
       "      <td>гражданский брак</td>\n",
       "      <td>1</td>\n",
       "      <td>F</td>\n",
       "      <td>пенсионер</td>\n",
       "      <td>0</td>\n",
       "      <td>158616.077870</td>\n",
       "      <td>сыграть свадьбу</td>\n",
       "    </tr>\n",
       "    <tr>\n",
       "      <th>5</th>\n",
       "      <td>0</td>\n",
       "      <td>-926.185831</td>\n",
       "      <td>27</td>\n",
       "      <td>высшее</td>\n",
       "      <td>0</td>\n",
       "      <td>гражданский брак</td>\n",
       "      <td>1</td>\n",
       "      <td>M</td>\n",
       "      <td>компаньон</td>\n",
       "      <td>0</td>\n",
       "      <td>255763.565419</td>\n",
       "      <td>покупка жилья</td>\n",
       "    </tr>\n",
       "    <tr>\n",
       "      <th>6</th>\n",
       "      <td>0</td>\n",
       "      <td>-2879.202052</td>\n",
       "      <td>43</td>\n",
       "      <td>высшее</td>\n",
       "      <td>0</td>\n",
       "      <td>женат / замужем</td>\n",
       "      <td>0</td>\n",
       "      <td>F</td>\n",
       "      <td>компаньон</td>\n",
       "      <td>0</td>\n",
       "      <td>240525.971920</td>\n",
       "      <td>операции с жильем</td>\n",
       "    </tr>\n",
       "    <tr>\n",
       "      <th>7</th>\n",
       "      <td>0</td>\n",
       "      <td>-152.779569</td>\n",
       "      <td>50</td>\n",
       "      <td>СРЕДНЕЕ</td>\n",
       "      <td>1</td>\n",
       "      <td>женат / замужем</td>\n",
       "      <td>0</td>\n",
       "      <td>M</td>\n",
       "      <td>сотрудник</td>\n",
       "      <td>0</td>\n",
       "      <td>135823.934197</td>\n",
       "      <td>образование</td>\n",
       "    </tr>\n",
       "    <tr>\n",
       "      <th>8</th>\n",
       "      <td>2</td>\n",
       "      <td>-6929.865299</td>\n",
       "      <td>35</td>\n",
       "      <td>ВЫСШЕЕ</td>\n",
       "      <td>0</td>\n",
       "      <td>гражданский брак</td>\n",
       "      <td>1</td>\n",
       "      <td>F</td>\n",
       "      <td>сотрудник</td>\n",
       "      <td>0</td>\n",
       "      <td>95856.832424</td>\n",
       "      <td>на проведение свадьбы</td>\n",
       "    </tr>\n",
       "    <tr>\n",
       "      <th>9</th>\n",
       "      <td>0</td>\n",
       "      <td>-2188.756445</td>\n",
       "      <td>41</td>\n",
       "      <td>среднее</td>\n",
       "      <td>1</td>\n",
       "      <td>женат / замужем</td>\n",
       "      <td>0</td>\n",
       "      <td>M</td>\n",
       "      <td>сотрудник</td>\n",
       "      <td>0</td>\n",
       "      <td>144425.938277</td>\n",
       "      <td>покупка жилья для семьи</td>\n",
       "    </tr>\n",
       "    <tr>\n",
       "      <th>10</th>\n",
       "      <td>2</td>\n",
       "      <td>-4171.483647</td>\n",
       "      <td>36</td>\n",
       "      <td>высшее</td>\n",
       "      <td>0</td>\n",
       "      <td>женат / замужем</td>\n",
       "      <td>0</td>\n",
       "      <td>M</td>\n",
       "      <td>компаньон</td>\n",
       "      <td>0</td>\n",
       "      <td>113943.491460</td>\n",
       "      <td>покупка недвижимости</td>\n",
       "    </tr>\n",
       "    <tr>\n",
       "      <th>11</th>\n",
       "      <td>0</td>\n",
       "      <td>-792.701887</td>\n",
       "      <td>40</td>\n",
       "      <td>среднее</td>\n",
       "      <td>1</td>\n",
       "      <td>женат / замужем</td>\n",
       "      <td>0</td>\n",
       "      <td>F</td>\n",
       "      <td>сотрудник</td>\n",
       "      <td>0</td>\n",
       "      <td>77069.234271</td>\n",
       "      <td>покупка коммерческой недвижимости</td>\n",
       "    </tr>\n",
       "    <tr>\n",
       "      <th>12</th>\n",
       "      <td>0</td>\n",
       "      <td>NaN</td>\n",
       "      <td>65</td>\n",
       "      <td>среднее</td>\n",
       "      <td>1</td>\n",
       "      <td>гражданский брак</td>\n",
       "      <td>1</td>\n",
       "      <td>M</td>\n",
       "      <td>пенсионер</td>\n",
       "      <td>0</td>\n",
       "      <td>NaN</td>\n",
       "      <td>сыграть свадьбу</td>\n",
       "    </tr>\n",
       "    <tr>\n",
       "      <th>13</th>\n",
       "      <td>0</td>\n",
       "      <td>-1846.641941</td>\n",
       "      <td>54</td>\n",
       "      <td>неоконченное высшее</td>\n",
       "      <td>2</td>\n",
       "      <td>женат / замужем</td>\n",
       "      <td>0</td>\n",
       "      <td>F</td>\n",
       "      <td>сотрудник</td>\n",
       "      <td>0</td>\n",
       "      <td>130458.228857</td>\n",
       "      <td>приобретение автомобиля</td>\n",
       "    </tr>\n",
       "    <tr>\n",
       "      <th>14</th>\n",
       "      <td>0</td>\n",
       "      <td>-1844.956182</td>\n",
       "      <td>56</td>\n",
       "      <td>высшее</td>\n",
       "      <td>0</td>\n",
       "      <td>гражданский брак</td>\n",
       "      <td>1</td>\n",
       "      <td>F</td>\n",
       "      <td>компаньон</td>\n",
       "      <td>1</td>\n",
       "      <td>165127.911772</td>\n",
       "      <td>покупка жилой недвижимости</td>\n",
       "    </tr>\n",
       "    <tr>\n",
       "      <th>15</th>\n",
       "      <td>1</td>\n",
       "      <td>-972.364419</td>\n",
       "      <td>26</td>\n",
       "      <td>среднее</td>\n",
       "      <td>1</td>\n",
       "      <td>женат / замужем</td>\n",
       "      <td>0</td>\n",
       "      <td>F</td>\n",
       "      <td>сотрудник</td>\n",
       "      <td>0</td>\n",
       "      <td>116820.904450</td>\n",
       "      <td>строительство собственной недвижимости</td>\n",
       "    </tr>\n",
       "    <tr>\n",
       "      <th>16</th>\n",
       "      <td>0</td>\n",
       "      <td>-1719.934226</td>\n",
       "      <td>35</td>\n",
       "      <td>среднее</td>\n",
       "      <td>1</td>\n",
       "      <td>женат / замужем</td>\n",
       "      <td>0</td>\n",
       "      <td>F</td>\n",
       "      <td>сотрудник</td>\n",
       "      <td>0</td>\n",
       "      <td>289202.704229</td>\n",
       "      <td>недвижимость</td>\n",
       "    </tr>\n",
       "    <tr>\n",
       "      <th>17</th>\n",
       "      <td>0</td>\n",
       "      <td>-2369.999720</td>\n",
       "      <td>33</td>\n",
       "      <td>высшее</td>\n",
       "      <td>0</td>\n",
       "      <td>гражданский брак</td>\n",
       "      <td>1</td>\n",
       "      <td>M</td>\n",
       "      <td>сотрудник</td>\n",
       "      <td>0</td>\n",
       "      <td>90410.586745</td>\n",
       "      <td>строительство недвижимости</td>\n",
       "    </tr>\n",
       "    <tr>\n",
       "      <th>18</th>\n",
       "      <td>0</td>\n",
       "      <td>400281.136913</td>\n",
       "      <td>53</td>\n",
       "      <td>среднее</td>\n",
       "      <td>1</td>\n",
       "      <td>вдовец / вдова</td>\n",
       "      <td>2</td>\n",
       "      <td>F</td>\n",
       "      <td>пенсионер</td>\n",
       "      <td>0</td>\n",
       "      <td>56823.777243</td>\n",
       "      <td>на покупку подержанного автомобиля</td>\n",
       "    </tr>\n",
       "    <tr>\n",
       "      <th>19</th>\n",
       "      <td>0</td>\n",
       "      <td>-10038.818549</td>\n",
       "      <td>48</td>\n",
       "      <td>СРЕДНЕЕ</td>\n",
       "      <td>1</td>\n",
       "      <td>в разводе</td>\n",
       "      <td>3</td>\n",
       "      <td>F</td>\n",
       "      <td>сотрудник</td>\n",
       "      <td>0</td>\n",
       "      <td>242831.107982</td>\n",
       "      <td>на покупку своего автомобиля</td>\n",
       "    </tr>\n",
       "  </tbody>\n",
       "</table>\n",
       "</div>"
      ],
      "text/plain": [
       "    children  days_employed  dob_years            education  education_id  \\\n",
       "0          1   -8437.673028         42               высшее             0   \n",
       "1          1   -4024.803754         36              среднее             1   \n",
       "2          0   -5623.422610         33              Среднее             1   \n",
       "3          3   -4124.747207         32              среднее             1   \n",
       "4          0  340266.072047         53              среднее             1   \n",
       "5          0    -926.185831         27               высшее             0   \n",
       "6          0   -2879.202052         43               высшее             0   \n",
       "7          0    -152.779569         50              СРЕДНЕЕ             1   \n",
       "8          2   -6929.865299         35               ВЫСШЕЕ             0   \n",
       "9          0   -2188.756445         41              среднее             1   \n",
       "10         2   -4171.483647         36               высшее             0   \n",
       "11         0    -792.701887         40              среднее             1   \n",
       "12         0            NaN         65              среднее             1   \n",
       "13         0   -1846.641941         54  неоконченное высшее             2   \n",
       "14         0   -1844.956182         56               высшее             0   \n",
       "15         1    -972.364419         26              среднее             1   \n",
       "16         0   -1719.934226         35              среднее             1   \n",
       "17         0   -2369.999720         33               высшее             0   \n",
       "18         0  400281.136913         53              среднее             1   \n",
       "19         0  -10038.818549         48              СРЕДНЕЕ             1   \n",
       "\n",
       "       family_status  family_status_id gender income_type  debt  \\\n",
       "0    женат / замужем                 0      F   сотрудник     0   \n",
       "1    женат / замужем                 0      F   сотрудник     0   \n",
       "2    женат / замужем                 0      M   сотрудник     0   \n",
       "3    женат / замужем                 0      M   сотрудник     0   \n",
       "4   гражданский брак                 1      F   пенсионер     0   \n",
       "5   гражданский брак                 1      M   компаньон     0   \n",
       "6    женат / замужем                 0      F   компаньон     0   \n",
       "7    женат / замужем                 0      M   сотрудник     0   \n",
       "8   гражданский брак                 1      F   сотрудник     0   \n",
       "9    женат / замужем                 0      M   сотрудник     0   \n",
       "10   женат / замужем                 0      M   компаньон     0   \n",
       "11   женат / замужем                 0      F   сотрудник     0   \n",
       "12  гражданский брак                 1      M   пенсионер     0   \n",
       "13   женат / замужем                 0      F   сотрудник     0   \n",
       "14  гражданский брак                 1      F   компаньон     1   \n",
       "15   женат / замужем                 0      F   сотрудник     0   \n",
       "16   женат / замужем                 0      F   сотрудник     0   \n",
       "17  гражданский брак                 1      M   сотрудник     0   \n",
       "18    вдовец / вдова                 2      F   пенсионер     0   \n",
       "19         в разводе                 3      F   сотрудник     0   \n",
       "\n",
       "     total_income                                 purpose  \n",
       "0   253875.639453                           покупка жилья  \n",
       "1   112080.014102                 приобретение автомобиля  \n",
       "2   145885.952297                           покупка жилья  \n",
       "3   267628.550329              дополнительное образование  \n",
       "4   158616.077870                         сыграть свадьбу  \n",
       "5   255763.565419                           покупка жилья  \n",
       "6   240525.971920                       операции с жильем  \n",
       "7   135823.934197                             образование  \n",
       "8    95856.832424                   на проведение свадьбы  \n",
       "9   144425.938277                 покупка жилья для семьи  \n",
       "10  113943.491460                    покупка недвижимости  \n",
       "11   77069.234271       покупка коммерческой недвижимости  \n",
       "12            NaN                         сыграть свадьбу  \n",
       "13  130458.228857                 приобретение автомобиля  \n",
       "14  165127.911772              покупка жилой недвижимости  \n",
       "15  116820.904450  строительство собственной недвижимости  \n",
       "16  289202.704229                            недвижимость  \n",
       "17   90410.586745              строительство недвижимости  \n",
       "18   56823.777243      на покупку подержанного автомобиля  \n",
       "19  242831.107982            на покупку своего автомобиля  "
      ]
     },
     "execution_count": 3,
     "metadata": {},
     "output_type": "execute_result"
    }
   ],
   "source": [
    "data.head(20)# ваш код здесь"
   ]
  },
  {
   "cell_type": "markdown",
   "id": "c8f382ae",
   "metadata": {
    "deletable": false,
    "editable": false,
    "id": "c8f382ae",
    "tags": [
     "start_task"
    ]
   },
   "source": [
    "**Задание 3. Выведите основную информацию о датафрейме с помощью метода `info()`.**"
   ]
  },
  {
   "cell_type": "code",
   "execution_count": 4,
   "id": "e1ed9908",
   "metadata": {
    "id": "e1ed9908"
   },
   "outputs": [
    {
     "name": "stdout",
     "output_type": "stream",
     "text": [
      "<class 'pandas.core.frame.DataFrame'>\n",
      "RangeIndex: 21525 entries, 0 to 21524\n",
      "Data columns (total 12 columns):\n",
      " #   Column            Non-Null Count  Dtype  \n",
      "---  ------            --------------  -----  \n",
      " 0   children          21525 non-null  int64  \n",
      " 1   days_employed     19351 non-null  float64\n",
      " 2   dob_years         21525 non-null  int64  \n",
      " 3   education         21525 non-null  object \n",
      " 4   education_id      21525 non-null  int64  \n",
      " 5   family_status     21525 non-null  object \n",
      " 6   family_status_id  21525 non-null  int64  \n",
      " 7   gender            21525 non-null  object \n",
      " 8   income_type       21525 non-null  object \n",
      " 9   debt              21525 non-null  int64  \n",
      " 10  total_income      19351 non-null  float64\n",
      " 11  purpose           21525 non-null  object \n",
      "dtypes: float64(2), int64(5), object(5)\n",
      "memory usage: 2.0+ MB\n"
     ]
    }
   ],
   "source": [
    "data.info()# ваш код здесь"
   ]
  },
  {
   "cell_type": "markdown",
   "id": "f969a1cd",
   "metadata": {
    "deletable": false,
    "editable": false,
    "id": "f969a1cd"
   },
   "source": [
    "## Предобработка данных"
   ]
  },
  {
   "cell_type": "markdown",
   "id": "7283e864",
   "metadata": {
    "deletable": false,
    "editable": false,
    "id": "7283e864"
   },
   "source": [
    "### Удаление пропусков"
   ]
  },
  {
   "cell_type": "markdown",
   "id": "c9a0745e",
   "metadata": {
    "deletable": false,
    "editable": false,
    "id": "c9a0745e",
    "tags": [
     "start_task"
    ]
   },
   "source": [
    "**Задание 4. Выведите количество пропущенных значений для каждого столбца. Используйте комбинацию двух методов.**"
   ]
  },
  {
   "cell_type": "code",
   "execution_count": 5,
   "id": "b7a096e1",
   "metadata": {
    "id": "b7a096e1"
   },
   "outputs": [
    {
     "name": "stdout",
     "output_type": "stream",
     "text": [
      "children               0\n",
      "days_employed       2174\n",
      "dob_years              0\n",
      "education              0\n",
      "education_id           0\n",
      "family_status          0\n",
      "family_status_id       0\n",
      "gender                 0\n",
      "income_type            0\n",
      "debt                   0\n",
      "total_income        2174\n",
      "purpose                0\n",
      "dtype: int64\n"
     ]
    }
   ],
   "source": [
    "missing_values = data.isnull().sum()\n",
    "print(missing_values)# ваш код здесь"
   ]
  },
  {
   "cell_type": "markdown",
   "id": "c2578616",
   "metadata": {
    "deletable": false,
    "editable": false,
    "id": "c2578616",
    "tags": [
     "start_task"
    ]
   },
   "source": [
    "**Задание 5. В двух столбцах есть пропущенные значения. Один из них — `days_employed`. Пропуски в этом столбце вы обработаете на следующем этапе. Другой столбец с пропущенными значениями — `total_income` — хранит данные о доходах. На сумму дохода сильнее всего влияет тип занятости, поэтому заполнить пропуски в этом столбце нужно медианным значением по каждому типу из столбца `income_type`. Например, у человека с типом занятости `сотрудник` пропуск в столбце `total_income` должен быть заполнен медианным доходом среди всех записей с тем же типом.**"
   ]
  },
  {
   "cell_type": "code",
   "execution_count": 6,
   "id": "e8afc4bc",
   "metadata": {
    "id": "e8afc4bc"
   },
   "outputs": [
    {
     "data": {
      "text/html": [
       "<div>\n",
       "<style scoped>\n",
       "    .dataframe tbody tr th:only-of-type {\n",
       "        vertical-align: middle;\n",
       "    }\n",
       "\n",
       "    .dataframe tbody tr th {\n",
       "        vertical-align: top;\n",
       "    }\n",
       "\n",
       "    .dataframe thead th {\n",
       "        text-align: right;\n",
       "    }\n",
       "</style>\n",
       "<table border=\"1\" class=\"dataframe\">\n",
       "  <thead>\n",
       "    <tr style=\"text-align: right;\">\n",
       "      <th></th>\n",
       "      <th>children</th>\n",
       "      <th>days_employed</th>\n",
       "      <th>dob_years</th>\n",
       "      <th>education</th>\n",
       "      <th>education_id</th>\n",
       "      <th>family_status</th>\n",
       "      <th>family_status_id</th>\n",
       "      <th>gender</th>\n",
       "      <th>income_type</th>\n",
       "      <th>debt</th>\n",
       "      <th>total_income</th>\n",
       "      <th>purpose</th>\n",
       "    </tr>\n",
       "  </thead>\n",
       "  <tbody>\n",
       "    <tr>\n",
       "      <th>0</th>\n",
       "      <td>1</td>\n",
       "      <td>-8437.673028</td>\n",
       "      <td>42</td>\n",
       "      <td>высшее</td>\n",
       "      <td>0</td>\n",
       "      <td>женат / замужем</td>\n",
       "      <td>0</td>\n",
       "      <td>F</td>\n",
       "      <td>сотрудник</td>\n",
       "      <td>0</td>\n",
       "      <td>253875.639453</td>\n",
       "      <td>покупка жилья</td>\n",
       "    </tr>\n",
       "    <tr>\n",
       "      <th>1</th>\n",
       "      <td>1</td>\n",
       "      <td>-4024.803754</td>\n",
       "      <td>36</td>\n",
       "      <td>среднее</td>\n",
       "      <td>1</td>\n",
       "      <td>женат / замужем</td>\n",
       "      <td>0</td>\n",
       "      <td>F</td>\n",
       "      <td>сотрудник</td>\n",
       "      <td>0</td>\n",
       "      <td>112080.014102</td>\n",
       "      <td>приобретение автомобиля</td>\n",
       "    </tr>\n",
       "    <tr>\n",
       "      <th>2</th>\n",
       "      <td>0</td>\n",
       "      <td>-5623.422610</td>\n",
       "      <td>33</td>\n",
       "      <td>Среднее</td>\n",
       "      <td>1</td>\n",
       "      <td>женат / замужем</td>\n",
       "      <td>0</td>\n",
       "      <td>M</td>\n",
       "      <td>сотрудник</td>\n",
       "      <td>0</td>\n",
       "      <td>145885.952297</td>\n",
       "      <td>покупка жилья</td>\n",
       "    </tr>\n",
       "    <tr>\n",
       "      <th>3</th>\n",
       "      <td>3</td>\n",
       "      <td>-4124.747207</td>\n",
       "      <td>32</td>\n",
       "      <td>среднее</td>\n",
       "      <td>1</td>\n",
       "      <td>женат / замужем</td>\n",
       "      <td>0</td>\n",
       "      <td>M</td>\n",
       "      <td>сотрудник</td>\n",
       "      <td>0</td>\n",
       "      <td>267628.550329</td>\n",
       "      <td>дополнительное образование</td>\n",
       "    </tr>\n",
       "    <tr>\n",
       "      <th>4</th>\n",
       "      <td>0</td>\n",
       "      <td>340266.072047</td>\n",
       "      <td>53</td>\n",
       "      <td>среднее</td>\n",
       "      <td>1</td>\n",
       "      <td>гражданский брак</td>\n",
       "      <td>1</td>\n",
       "      <td>F</td>\n",
       "      <td>пенсионер</td>\n",
       "      <td>0</td>\n",
       "      <td>158616.077870</td>\n",
       "      <td>сыграть свадьбу</td>\n",
       "    </tr>\n",
       "    <tr>\n",
       "      <th>5</th>\n",
       "      <td>0</td>\n",
       "      <td>-926.185831</td>\n",
       "      <td>27</td>\n",
       "      <td>высшее</td>\n",
       "      <td>0</td>\n",
       "      <td>гражданский брак</td>\n",
       "      <td>1</td>\n",
       "      <td>M</td>\n",
       "      <td>компаньон</td>\n",
       "      <td>0</td>\n",
       "      <td>255763.565419</td>\n",
       "      <td>покупка жилья</td>\n",
       "    </tr>\n",
       "    <tr>\n",
       "      <th>6</th>\n",
       "      <td>0</td>\n",
       "      <td>-2879.202052</td>\n",
       "      <td>43</td>\n",
       "      <td>высшее</td>\n",
       "      <td>0</td>\n",
       "      <td>женат / замужем</td>\n",
       "      <td>0</td>\n",
       "      <td>F</td>\n",
       "      <td>компаньон</td>\n",
       "      <td>0</td>\n",
       "      <td>240525.971920</td>\n",
       "      <td>операции с жильем</td>\n",
       "    </tr>\n",
       "    <tr>\n",
       "      <th>7</th>\n",
       "      <td>0</td>\n",
       "      <td>-152.779569</td>\n",
       "      <td>50</td>\n",
       "      <td>СРЕДНЕЕ</td>\n",
       "      <td>1</td>\n",
       "      <td>женат / замужем</td>\n",
       "      <td>0</td>\n",
       "      <td>M</td>\n",
       "      <td>сотрудник</td>\n",
       "      <td>0</td>\n",
       "      <td>135823.934197</td>\n",
       "      <td>образование</td>\n",
       "    </tr>\n",
       "    <tr>\n",
       "      <th>8</th>\n",
       "      <td>2</td>\n",
       "      <td>-6929.865299</td>\n",
       "      <td>35</td>\n",
       "      <td>ВЫСШЕЕ</td>\n",
       "      <td>0</td>\n",
       "      <td>гражданский брак</td>\n",
       "      <td>1</td>\n",
       "      <td>F</td>\n",
       "      <td>сотрудник</td>\n",
       "      <td>0</td>\n",
       "      <td>95856.832424</td>\n",
       "      <td>на проведение свадьбы</td>\n",
       "    </tr>\n",
       "    <tr>\n",
       "      <th>9</th>\n",
       "      <td>0</td>\n",
       "      <td>-2188.756445</td>\n",
       "      <td>41</td>\n",
       "      <td>среднее</td>\n",
       "      <td>1</td>\n",
       "      <td>женат / замужем</td>\n",
       "      <td>0</td>\n",
       "      <td>M</td>\n",
       "      <td>сотрудник</td>\n",
       "      <td>0</td>\n",
       "      <td>144425.938277</td>\n",
       "      <td>покупка жилья для семьи</td>\n",
       "    </tr>\n",
       "  </tbody>\n",
       "</table>\n",
       "</div>"
      ],
      "text/plain": [
       "   children  days_employed  dob_years education  education_id  \\\n",
       "0         1   -8437.673028         42    высшее             0   \n",
       "1         1   -4024.803754         36   среднее             1   \n",
       "2         0   -5623.422610         33   Среднее             1   \n",
       "3         3   -4124.747207         32   среднее             1   \n",
       "4         0  340266.072047         53   среднее             1   \n",
       "5         0    -926.185831         27    высшее             0   \n",
       "6         0   -2879.202052         43    высшее             0   \n",
       "7         0    -152.779569         50   СРЕДНЕЕ             1   \n",
       "8         2   -6929.865299         35    ВЫСШЕЕ             0   \n",
       "9         0   -2188.756445         41   среднее             1   \n",
       "\n",
       "      family_status  family_status_id gender income_type  debt   total_income  \\\n",
       "0   женат / замужем                 0      F   сотрудник     0  253875.639453   \n",
       "1   женат / замужем                 0      F   сотрудник     0  112080.014102   \n",
       "2   женат / замужем                 0      M   сотрудник     0  145885.952297   \n",
       "3   женат / замужем                 0      M   сотрудник     0  267628.550329   \n",
       "4  гражданский брак                 1      F   пенсионер     0  158616.077870   \n",
       "5  гражданский брак                 1      M   компаньон     0  255763.565419   \n",
       "6   женат / замужем                 0      F   компаньон     0  240525.971920   \n",
       "7   женат / замужем                 0      M   сотрудник     0  135823.934197   \n",
       "8  гражданский брак                 1      F   сотрудник     0   95856.832424   \n",
       "9   женат / замужем                 0      M   сотрудник     0  144425.938277   \n",
       "\n",
       "                      purpose  \n",
       "0               покупка жилья  \n",
       "1     приобретение автомобиля  \n",
       "2               покупка жилья  \n",
       "3  дополнительное образование  \n",
       "4             сыграть свадьбу  \n",
       "5               покупка жилья  \n",
       "6           операции с жильем  \n",
       "7                 образование  \n",
       "8       на проведение свадьбы  \n",
       "9     покупка жилья для семьи  "
      ]
     },
     "execution_count": 6,
     "metadata": {},
     "output_type": "execute_result"
    }
   ],
   "source": [
    "median_income = data.groupby('income_type')['total_income'].median()\n",
    "def fill_missing_income(row):\n",
    "    if pd.isnull(row['total_income']):\n",
    "        return median_income[row['income_type']]\n",
    "    else:\n",
    "        return row['total_income']\n",
    "\n",
    "data['total_income'] = data.apply(fill_missing_income, axis=1)\n",
    "data.head(10)# ваш код здесь"
   ]
  },
  {
   "cell_type": "markdown",
   "id": "ae986d46",
   "metadata": {
    "deletable": false,
    "editable": false,
    "id": "ae986d46"
   },
   "source": [
    "### Обработка аномальных значений"
   ]
  },
  {
   "cell_type": "markdown",
   "id": "b049cbae",
   "metadata": {
    "deletable": false,
    "editable": false,
    "id": "b049cbae",
    "tags": [
     "start_task"
    ]
   },
   "source": [
    "**Задание 6. В данных могут встречаться артефакты (аномалии) — значения, которые не отражают действительность и появились по какой-то ошибке. Таким артефактом будет отрицательное количество дней трудового стажа в столбце `days_employed`. Для реальных данных это нормально. Обработайте значения в этом столбце: замените все отрицательные значения положительными с помощью метода `abs()`.**"
   ]
  },
  {
   "cell_type": "code",
   "execution_count": 7,
   "id": "187779b0",
   "metadata": {
    "id": "187779b0"
   },
   "outputs": [],
   "source": [
    "data['days_employed'] = data['days_employed'].abs()\n",
    "# ваш код здесь"
   ]
  },
  {
   "cell_type": "markdown",
   "id": "a13054c2",
   "metadata": {
    "deletable": false,
    "editable": false,
    "id": "a13054c2",
    "tags": [
     "start_task"
    ]
   },
   "source": [
    "**Задание 7. Для каждого типа занятости выведите медианное значение трудового стажа `days_employed` в днях.**"
   ]
  },
  {
   "cell_type": "code",
   "execution_count": 8,
   "id": "f3f5810c",
   "metadata": {
    "id": "f3f5810c"
   },
   "outputs": [
    {
     "name": "stdout",
     "output_type": "stream",
     "text": [
      "income_type\n",
      "безработный        366413.652744\n",
      "в декрете            3296.759962\n",
      "госслужащий          2689.368353\n",
      "компаньон            1547.382223\n",
      "пенсионер          365213.306266\n",
      "предприниматель       520.848083\n",
      "сотрудник            1574.202821\n",
      "студент               578.751554\n",
      "Name: days_employed, dtype: float64\n"
     ]
    }
   ],
   "source": [
    "median_days_employed = data.groupby('income_type')['days_employed'].median()\n",
    "\n",
    "print(median_days_employed)# ваш код здесь"
   ]
  },
  {
   "cell_type": "markdown",
   "id": "dbc3168c",
   "metadata": {
    "deletable": false,
    "editable": false,
    "id": "dbc3168c"
   },
   "source": [
    "У двух типов (безработные и пенсионеры) получатся аномально большие значения. Исправить такие значения сложно, поэтому оставьте их как есть."
   ]
  },
  {
   "cell_type": "markdown",
   "id": "ff4378c2",
   "metadata": {
    "deletable": false,
    "editable": false,
    "id": "ff4378c2",
    "tags": [
     "start_task"
    ]
   },
   "source": [
    "**Задание 8. Выведите перечень уникальных значений столбца `children`.**"
   ]
  },
  {
   "cell_type": "code",
   "execution_count": 9,
   "id": "9bd0c232",
   "metadata": {
    "id": "9bd0c232"
   },
   "outputs": [
    {
     "name": "stdout",
     "output_type": "stream",
     "text": [
      "[ 1  0  3  2 -1  4 20  5]\n"
     ]
    }
   ],
   "source": [
    "unique_children = data['children'].unique()\n",
    "\n",
    "print(unique_children) # ваш код здесь"
   ]
  },
  {
   "cell_type": "markdown",
   "id": "8e911990",
   "metadata": {
    "deletable": false,
    "editable": false,
    "id": "8e911990",
    "tags": [
     "start_task"
    ]
   },
   "source": [
    "**Задание 9. В столбце `children` есть два аномальных значения. Удалите строки, в которых встречаются такие аномальные значения из датафрейма `data`.**"
   ]
  },
  {
   "cell_type": "code",
   "execution_count": 10,
   "id": "6d5ba289",
   "metadata": {
    "id": "6d5ba289"
   },
   "outputs": [
    {
     "name": "stdout",
     "output_type": "stream",
     "text": [
      "       children  days_employed  dob_years education  education_id  \\\n",
      "0             1    8437.673028         42    высшее             0   \n",
      "1             1    4024.803754         36   среднее             1   \n",
      "2             0    5623.422610         33   Среднее             1   \n",
      "3             3    4124.747207         32   среднее             1   \n",
      "4             0  340266.072047         53   среднее             1   \n",
      "...         ...            ...        ...       ...           ...   \n",
      "21520         1    4529.316663         43   среднее             1   \n",
      "21521         0  343937.404131         67   среднее             1   \n",
      "21522         1    2113.346888         38   среднее             1   \n",
      "21523         3    3112.481705         38   среднее             1   \n",
      "21524         2    1984.507589         40   среднее             1   \n",
      "\n",
      "          family_status  family_status_id gender income_type  debt  \\\n",
      "0       женат / замужем                 0      F   сотрудник     0   \n",
      "1       женат / замужем                 0      F   сотрудник     0   \n",
      "2       женат / замужем                 0      M   сотрудник     0   \n",
      "3       женат / замужем                 0      M   сотрудник     0   \n",
      "4      гражданский брак                 1      F   пенсионер     0   \n",
      "...                 ...               ...    ...         ...   ...   \n",
      "21520  гражданский брак                 1      F   компаньон     0   \n",
      "21521   женат / замужем                 0      F   пенсионер     0   \n",
      "21522  гражданский брак                 1      M   сотрудник     1   \n",
      "21523   женат / замужем                 0      M   сотрудник     1   \n",
      "21524   женат / замужем                 0      F   сотрудник     0   \n",
      "\n",
      "        total_income                       purpose  \n",
      "0      253875.639453                 покупка жилья  \n",
      "1      112080.014102       приобретение автомобиля  \n",
      "2      145885.952297                 покупка жилья  \n",
      "3      267628.550329    дополнительное образование  \n",
      "4      158616.077870               сыграть свадьбу  \n",
      "...              ...                           ...  \n",
      "21520  224791.862382             операции с жильем  \n",
      "21521  155999.806512          сделка с автомобилем  \n",
      "21522   89672.561153                  недвижимость  \n",
      "21523  244093.050500  на покупку своего автомобиля  \n",
      "21524   82047.418899         на покупку автомобиля  \n",
      "\n",
      "[21402 rows x 12 columns]\n"
     ]
    }
   ],
   "source": [
    "data = data[(data['children'] >= 0) & (data['children'] <= 5)]\n",
    "data.reset_index(drop=True)\n",
    "\n",
    "print(data)\n"
   ]
  },
  {
   "cell_type": "markdown",
   "id": "18d77455",
   "metadata": {
    "deletable": false,
    "editable": false,
    "id": "18d77455",
    "tags": [
     "start_task"
    ]
   },
   "source": [
    "**Задание 10. Ещё раз выведите перечень уникальных значений столбца `children`, чтобы убедиться, что артефакты удалены.**"
   ]
  },
  {
   "cell_type": "code",
   "execution_count": 11,
   "id": "2c5fa92c",
   "metadata": {
    "id": "2c5fa92c"
   },
   "outputs": [
    {
     "name": "stdout",
     "output_type": "stream",
     "text": [
      "[1 0 3 2 4 5]\n"
     ]
    }
   ],
   "source": [
    "unique_children = data['children'].unique()\n",
    "\n",
    "print(unique_children)# ваш код здесь"
   ]
  },
  {
   "cell_type": "markdown",
   "id": "0ec07dee",
   "metadata": {
    "deletable": false,
    "editable": false,
    "id": "0ec07dee"
   },
   "source": [
    "### Удаление пропусков (продолжение)"
   ]
  },
  {
   "cell_type": "markdown",
   "id": "0fc3ae3f",
   "metadata": {
    "deletable": false,
    "editable": false,
    "id": "0fc3ae3f",
    "tags": [
     "start_task"
    ]
   },
   "source": [
    "**Задание 11. Заполните пропуски в столбце `days_employed` медианными значениями по каждому типу занятости `income_type`.**"
   ]
  },
  {
   "cell_type": "code",
   "execution_count": 12,
   "id": "e2aea7ac",
   "metadata": {
    "id": "e2aea7ac"
   },
   "outputs": [
    {
     "data": {
      "text/html": [
       "<div>\n",
       "<style scoped>\n",
       "    .dataframe tbody tr th:only-of-type {\n",
       "        vertical-align: middle;\n",
       "    }\n",
       "\n",
       "    .dataframe tbody tr th {\n",
       "        vertical-align: top;\n",
       "    }\n",
       "\n",
       "    .dataframe thead th {\n",
       "        text-align: right;\n",
       "    }\n",
       "</style>\n",
       "<table border=\"1\" class=\"dataframe\">\n",
       "  <thead>\n",
       "    <tr style=\"text-align: right;\">\n",
       "      <th></th>\n",
       "      <th>children</th>\n",
       "      <th>days_employed</th>\n",
       "      <th>dob_years</th>\n",
       "      <th>education</th>\n",
       "      <th>education_id</th>\n",
       "      <th>family_status</th>\n",
       "      <th>family_status_id</th>\n",
       "      <th>gender</th>\n",
       "      <th>income_type</th>\n",
       "      <th>debt</th>\n",
       "      <th>total_income</th>\n",
       "      <th>purpose</th>\n",
       "    </tr>\n",
       "  </thead>\n",
       "  <tbody>\n",
       "    <tr>\n",
       "      <th>0</th>\n",
       "      <td>1</td>\n",
       "      <td>8437.673028</td>\n",
       "      <td>42</td>\n",
       "      <td>высшее</td>\n",
       "      <td>0</td>\n",
       "      <td>женат / замужем</td>\n",
       "      <td>0</td>\n",
       "      <td>F</td>\n",
       "      <td>сотрудник</td>\n",
       "      <td>0</td>\n",
       "      <td>253875.639453</td>\n",
       "      <td>покупка жилья</td>\n",
       "    </tr>\n",
       "    <tr>\n",
       "      <th>1</th>\n",
       "      <td>1</td>\n",
       "      <td>4024.803754</td>\n",
       "      <td>36</td>\n",
       "      <td>среднее</td>\n",
       "      <td>1</td>\n",
       "      <td>женат / замужем</td>\n",
       "      <td>0</td>\n",
       "      <td>F</td>\n",
       "      <td>сотрудник</td>\n",
       "      <td>0</td>\n",
       "      <td>112080.014102</td>\n",
       "      <td>приобретение автомобиля</td>\n",
       "    </tr>\n",
       "    <tr>\n",
       "      <th>2</th>\n",
       "      <td>0</td>\n",
       "      <td>5623.422610</td>\n",
       "      <td>33</td>\n",
       "      <td>Среднее</td>\n",
       "      <td>1</td>\n",
       "      <td>женат / замужем</td>\n",
       "      <td>0</td>\n",
       "      <td>M</td>\n",
       "      <td>сотрудник</td>\n",
       "      <td>0</td>\n",
       "      <td>145885.952297</td>\n",
       "      <td>покупка жилья</td>\n",
       "    </tr>\n",
       "    <tr>\n",
       "      <th>3</th>\n",
       "      <td>3</td>\n",
       "      <td>4124.747207</td>\n",
       "      <td>32</td>\n",
       "      <td>среднее</td>\n",
       "      <td>1</td>\n",
       "      <td>женат / замужем</td>\n",
       "      <td>0</td>\n",
       "      <td>M</td>\n",
       "      <td>сотрудник</td>\n",
       "      <td>0</td>\n",
       "      <td>267628.550329</td>\n",
       "      <td>дополнительное образование</td>\n",
       "    </tr>\n",
       "    <tr>\n",
       "      <th>4</th>\n",
       "      <td>0</td>\n",
       "      <td>340266.072047</td>\n",
       "      <td>53</td>\n",
       "      <td>среднее</td>\n",
       "      <td>1</td>\n",
       "      <td>гражданский брак</td>\n",
       "      <td>1</td>\n",
       "      <td>F</td>\n",
       "      <td>пенсионер</td>\n",
       "      <td>0</td>\n",
       "      <td>158616.077870</td>\n",
       "      <td>сыграть свадьбу</td>\n",
       "    </tr>\n",
       "    <tr>\n",
       "      <th>5</th>\n",
       "      <td>0</td>\n",
       "      <td>926.185831</td>\n",
       "      <td>27</td>\n",
       "      <td>высшее</td>\n",
       "      <td>0</td>\n",
       "      <td>гражданский брак</td>\n",
       "      <td>1</td>\n",
       "      <td>M</td>\n",
       "      <td>компаньон</td>\n",
       "      <td>0</td>\n",
       "      <td>255763.565419</td>\n",
       "      <td>покупка жилья</td>\n",
       "    </tr>\n",
       "    <tr>\n",
       "      <th>6</th>\n",
       "      <td>0</td>\n",
       "      <td>2879.202052</td>\n",
       "      <td>43</td>\n",
       "      <td>высшее</td>\n",
       "      <td>0</td>\n",
       "      <td>женат / замужем</td>\n",
       "      <td>0</td>\n",
       "      <td>F</td>\n",
       "      <td>компаньон</td>\n",
       "      <td>0</td>\n",
       "      <td>240525.971920</td>\n",
       "      <td>операции с жильем</td>\n",
       "    </tr>\n",
       "    <tr>\n",
       "      <th>7</th>\n",
       "      <td>0</td>\n",
       "      <td>152.779569</td>\n",
       "      <td>50</td>\n",
       "      <td>СРЕДНЕЕ</td>\n",
       "      <td>1</td>\n",
       "      <td>женат / замужем</td>\n",
       "      <td>0</td>\n",
       "      <td>M</td>\n",
       "      <td>сотрудник</td>\n",
       "      <td>0</td>\n",
       "      <td>135823.934197</td>\n",
       "      <td>образование</td>\n",
       "    </tr>\n",
       "    <tr>\n",
       "      <th>8</th>\n",
       "      <td>2</td>\n",
       "      <td>6929.865299</td>\n",
       "      <td>35</td>\n",
       "      <td>ВЫСШЕЕ</td>\n",
       "      <td>0</td>\n",
       "      <td>гражданский брак</td>\n",
       "      <td>1</td>\n",
       "      <td>F</td>\n",
       "      <td>сотрудник</td>\n",
       "      <td>0</td>\n",
       "      <td>95856.832424</td>\n",
       "      <td>на проведение свадьбы</td>\n",
       "    </tr>\n",
       "    <tr>\n",
       "      <th>9</th>\n",
       "      <td>0</td>\n",
       "      <td>2188.756445</td>\n",
       "      <td>41</td>\n",
       "      <td>среднее</td>\n",
       "      <td>1</td>\n",
       "      <td>женат / замужем</td>\n",
       "      <td>0</td>\n",
       "      <td>M</td>\n",
       "      <td>сотрудник</td>\n",
       "      <td>0</td>\n",
       "      <td>144425.938277</td>\n",
       "      <td>покупка жилья для семьи</td>\n",
       "    </tr>\n",
       "  </tbody>\n",
       "</table>\n",
       "</div>"
      ],
      "text/plain": [
       "   children  days_employed  dob_years education  education_id  \\\n",
       "0         1    8437.673028         42    высшее             0   \n",
       "1         1    4024.803754         36   среднее             1   \n",
       "2         0    5623.422610         33   Среднее             1   \n",
       "3         3    4124.747207         32   среднее             1   \n",
       "4         0  340266.072047         53   среднее             1   \n",
       "5         0     926.185831         27    высшее             0   \n",
       "6         0    2879.202052         43    высшее             0   \n",
       "7         0     152.779569         50   СРЕДНЕЕ             1   \n",
       "8         2    6929.865299         35    ВЫСШЕЕ             0   \n",
       "9         0    2188.756445         41   среднее             1   \n",
       "\n",
       "      family_status  family_status_id gender income_type  debt   total_income  \\\n",
       "0   женат / замужем                 0      F   сотрудник     0  253875.639453   \n",
       "1   женат / замужем                 0      F   сотрудник     0  112080.014102   \n",
       "2   женат / замужем                 0      M   сотрудник     0  145885.952297   \n",
       "3   женат / замужем                 0      M   сотрудник     0  267628.550329   \n",
       "4  гражданский брак                 1      F   пенсионер     0  158616.077870   \n",
       "5  гражданский брак                 1      M   компаньон     0  255763.565419   \n",
       "6   женат / замужем                 0      F   компаньон     0  240525.971920   \n",
       "7   женат / замужем                 0      M   сотрудник     0  135823.934197   \n",
       "8  гражданский брак                 1      F   сотрудник     0   95856.832424   \n",
       "9   женат / замужем                 0      M   сотрудник     0  144425.938277   \n",
       "\n",
       "                      purpose  \n",
       "0               покупка жилья  \n",
       "1     приобретение автомобиля  \n",
       "2               покупка жилья  \n",
       "3  дополнительное образование  \n",
       "4             сыграть свадьбу  \n",
       "5               покупка жилья  \n",
       "6           операции с жильем  \n",
       "7                 образование  \n",
       "8       на проведение свадьбы  \n",
       "9     покупка жилья для семьи  "
      ]
     },
     "execution_count": 12,
     "metadata": {},
     "output_type": "execute_result"
    }
   ],
   "source": [
    "median_days_employed = data.groupby('income_type')['days_employed'].median()\n",
    "def fill_missing_days_employed(row):\n",
    "    if pd.isnull(row['days_employed']):\n",
    "        return median_days_employed[row['income_type']]\n",
    "    else:\n",
    "        return row['days_employed']\n",
    "\n",
    "data['days_employed'] = data.apply(fill_missing_days_employed, axis=1)\n",
    "data.head(10)# ваш код здесь"
   ]
  },
  {
   "cell_type": "markdown",
   "id": "97b0b795",
   "metadata": {
    "deletable": false,
    "editable": false,
    "id": "97b0b795",
    "tags": [
     "start_task"
    ]
   },
   "source": [
    "**Задание 12. Убедитесь, что все пропуски заполнены. Проверьте себя и ещё раз выведите количество пропущенных значений для каждого столбца с помощью двух методов.**"
   ]
  },
  {
   "cell_type": "code",
   "execution_count": 13,
   "id": "79632a21",
   "metadata": {
    "id": "79632a21"
   },
   "outputs": [
    {
     "name": "stdout",
     "output_type": "stream",
     "text": [
      "children            0\n",
      "days_employed       0\n",
      "dob_years           0\n",
      "education           0\n",
      "education_id        0\n",
      "family_status       0\n",
      "family_status_id    0\n",
      "gender              0\n",
      "income_type         0\n",
      "debt                0\n",
      "total_income        0\n",
      "purpose             0\n",
      "dtype: int64\n"
     ]
    }
   ],
   "source": [
    "missing_values = data.isnull().sum()\n",
    "print(missing_values)# ваш код здесь"
   ]
  },
  {
   "cell_type": "markdown",
   "id": "bd4aeb20",
   "metadata": {
    "deletable": false,
    "editable": false,
    "id": "bd4aeb20"
   },
   "source": [
    "### Изменение типов данных"
   ]
  },
  {
   "cell_type": "markdown",
   "id": "963bfa58",
   "metadata": {
    "deletable": false,
    "editable": false,
    "id": "963bfa58",
    "tags": [
     "start_task"
    ]
   },
   "source": [
    "**Задание 13. Замените вещественный тип данных в столбце `total_income` на целочисленный с помощью метода `astype()`.**"
   ]
  },
  {
   "cell_type": "code",
   "execution_count": 14,
   "id": "73da6ea0",
   "metadata": {
    "id": "73da6ea0"
   },
   "outputs": [],
   "source": [
    "data['total_income'] = data['total_income'].astype(int) # ваш код здесь"
   ]
  },
  {
   "cell_type": "markdown",
   "id": "d290239e",
   "metadata": {
    "deletable": false,
    "editable": false,
    "id": "d290239e"
   },
   "source": [
    "### Обработка дубликатов"
   ]
  },
  {
   "cell_type": "markdown",
   "id": "1b5844fd",
   "metadata": {
    "deletable": false,
    "editable": false,
    "id": "1b5844fd",
    "tags": [
     "start_task"
    ]
   },
   "source": [
    "**Задание 14. Обработайте неявные дубликаты в столбце `education`. В этом столбце есть одни и те же значения, но записанные по-разному: с использованием заглавных и строчных букв. Приведите их к нижнему регистру.**"
   ]
  },
  {
   "cell_type": "code",
   "execution_count": 15,
   "id": "3f2504b3",
   "metadata": {
    "id": "3f2504b3"
   },
   "outputs": [],
   "source": [
    "data['education'] = data['education'].str.lower() # ваш код здесь"
   ]
  },
  {
   "cell_type": "markdown",
   "id": "4c22acbc",
   "metadata": {
    "deletable": false,
    "editable": false,
    "id": "4c22acbc",
    "tags": [
     "start_task"
    ]
   },
   "source": [
    "**Задание 15. Выведите на экран количество строк-дубликатов в данных. Если такие строки присутствуют, удалите их.**"
   ]
  },
  {
   "cell_type": "code",
   "execution_count": 16,
   "id": "d34a4325",
   "metadata": {
    "id": "d34a4325"
   },
   "outputs": [
    {
     "name": "stdout",
     "output_type": "stream",
     "text": [
      "71\n"
     ]
    }
   ],
   "source": [
    "duplicate_count = data.duplicated().sum()\n",
    "print(duplicate_count)\n",
    "\n",
    "# посчитайте дубликаты"
   ]
  },
  {
   "cell_type": "code",
   "execution_count": 17,
   "id": "6e1a6499",
   "metadata": {
    "id": "6e1a6499"
   },
   "outputs": [],
   "source": [
    "data = data.drop_duplicates() # удалите дубликаты"
   ]
  },
  {
   "cell_type": "markdown",
   "id": "e5686ccc",
   "metadata": {
    "deletable": false,
    "editable": false,
    "id": "e5686ccc"
   },
   "source": [
    "### Категоризация данных"
   ]
  },
  {
   "cell_type": "markdown",
   "id": "636e9acd",
   "metadata": {
    "deletable": false,
    "editable": false,
    "id": "636e9acd",
    "tags": [
     "start_task"
    ]
   },
   "source": [
    "**Задание 16. На основании диапазонов, указанных ниже, создайте в датафрейме `data` столбец `total_income_category` с категориями:**\n",
    "\n",
    "- 0–30000 — `'E'`;\n",
    "- 30001–50000 — `'D'`;\n",
    "- 50001–200000 — `'C'`;\n",
    "- 200001–1000000 — `'B'`;\n",
    "- 1000001 и выше — `'A'`.\n",
    "\n",
    "\n",
    "**Например, кредитополучателю с доходом 25000 нужно назначить категорию `'E'`, а клиенту, получающему 235000, — `'B'`. Используйте собственную функцию с именем `categorize_income()` и метод `apply()`.**"
   ]
  },
  {
   "cell_type": "code",
   "execution_count": 18,
   "id": "880a77e5",
   "metadata": {
    "id": "880a77e5"
   },
   "outputs": [],
   "source": [
    "def categorize_income(income):\n",
    "    if income <= 30000:\n",
    "        return 'E'\n",
    "    elif income <= 50000:\n",
    "        return 'D'\n",
    "    elif income <= 200000:\n",
    "        return 'C'\n",
    "    elif income <= 1000000:\n",
    "        return 'B'\n",
    "    else:\n",
    "        return 'A' # создайте функцию categorize_income()"
   ]
  },
  {
   "cell_type": "code",
   "execution_count": 19,
   "id": "6f25f161",
   "metadata": {
    "id": "6f25f161"
   },
   "outputs": [],
   "source": [
    "data['total_income_category'] = data['total_income'].apply(categorize_income)# примените функцию методом apply()"
   ]
  },
  {
   "cell_type": "markdown",
   "id": "3363b685",
   "metadata": {
    "deletable": false,
    "editable": false,
    "id": "3363b685",
    "tags": [
     "start_task"
    ]
   },
   "source": [
    "**Задание 17. Выведите на экран перечень уникальных целей взятия кредита из столбца `purpose`.**"
   ]
  },
  {
   "cell_type": "code",
   "execution_count": 20,
   "id": "e59f2c15",
   "metadata": {
    "id": "e59f2c15"
   },
   "outputs": [
    {
     "name": "stdout",
     "output_type": "stream",
     "text": [
      "['покупка жилья' 'приобретение автомобиля' 'дополнительное образование'\n",
      " 'сыграть свадьбу' 'операции с жильем' 'образование'\n",
      " 'на проведение свадьбы' 'покупка жилья для семьи' 'покупка недвижимости'\n",
      " 'покупка коммерческой недвижимости' 'покупка жилой недвижимости'\n",
      " 'строительство собственной недвижимости' 'недвижимость'\n",
      " 'строительство недвижимости' 'на покупку подержанного автомобиля'\n",
      " 'на покупку своего автомобиля' 'операции с коммерческой недвижимостью'\n",
      " 'строительство жилой недвижимости' 'жилье'\n",
      " 'операции со своей недвижимостью' 'автомобили' 'заняться образованием'\n",
      " 'сделка с подержанным автомобилем' 'получение образования' 'автомобиль'\n",
      " 'свадьба' 'получение дополнительного образования' 'покупка своего жилья'\n",
      " 'операции с недвижимостью' 'получение высшего образования'\n",
      " 'свой автомобиль' 'сделка с автомобилем' 'профильное образование'\n",
      " 'высшее образование' 'покупка жилья для сдачи' 'на покупку автомобиля'\n",
      " 'ремонт жилью' 'заняться высшим образованием']\n"
     ]
    }
   ],
   "source": [
    "purpose_unique = data['purpose'].unique()\n",
    "print(purpose_unique)"
   ]
  },
  {
   "cell_type": "markdown",
   "id": "bb33e847",
   "metadata": {
    "deletable": false,
    "editable": false,
    "id": "bb33e847",
    "tags": [
     "start_task"
    ]
   },
   "source": [
    "**Задание 18. Создайте функцию, которая на основании данных из столбца `purpose` сформирует новый столбец `purpose_category`, в который войдут следующие категории:**\n",
    "\n",
    "- `'операции с автомобилем'`,\n",
    "- `'операции с недвижимостью'`,\n",
    "- `'проведение свадьбы'`,\n",
    "- `'получение образования'`.\n",
    "\n",
    "**Например, если в столбце `purpose` находится подстрока `'на покупку автомобиля'`, то в столбце `purpose_category` должна появиться строка `'операции с автомобилем'`.**\n",
    "\n",
    "**Используйте собственную функцию с именем `categorize_purpose()` и метод `apply()`. Изучите данные в столбце `purpose` и определите, какие подстроки помогут вам правильно определить категорию.**"
   ]
  },
  {
   "cell_type": "code",
   "execution_count": 23,
   "id": "63909b83",
   "metadata": {
    "id": "63909b83"
   },
   "outputs": [],
   "source": [
    "def categorize_purpose(purpose):\n",
    "    if any(substring in purpose for substring in [\n",
    "        'на покупку подержанного автомобиля',\n",
    "        'на покупку своего автомобиля',\n",
    "        'автомобили',\n",
    "        'сделка с подержанным автомобилем',\n",
    "        'автомобиль',\n",
    "        'свой автомобиль',\n",
    "        'сделка с автомобилем',\n",
    "        'на покупку автомобиля',\n",
    "        'приобретение автомобиля'\n",
    "    ]):\n",
    "        return 'операции с автомобилем'\n",
    "    \n",
    "    elif any(substring in purpose for substring in [\n",
    "        'покупка жилья',\n",
    "        'операции с жильем',\n",
    "        'покупка жилья для семьи',\n",
    "        'покупка недвижимости',\n",
    "        'покупка коммерческой недвижимости',\n",
    "        'покупка жилой недвижимости',\n",
    "        'строительство собственной недвижимости',\n",
    "        'недвижимость',\n",
    "        'строительство недвижимости',\n",
    "        'операции с коммерческой недвижимостью',\n",
    "        'строительство жилой недвижимости',\n",
    "        'жилье',\n",
    "        'операции со своей недвижимостью',\n",
    "        'покупка своего жилья',\n",
    "        'операции с недвижимостью',\n",
    "        'покупка жилья для сдачи',\n",
    "        'ремонт жилью'\n",
    "    ]):\n",
    "        return 'операции с недвижимостью'\n",
    "    \n",
    "    elif any(substring in purpose for substring in [\n",
    "        'сыграть свадьбу',\n",
    "        'на проведение свадьбы',\n",
    "        'свадьба'\n",
    "    ]):\n",
    "        return 'проведение свадьбы'\n",
    "    \n",
    "    elif any(substring in purpose for substring in [\n",
    "        'дополнительное образование',\n",
    "        'образование',\n",
    "        'заняться образованием',\n",
    "        'получение образования',\n",
    "        'получение дополнительного образования',\n",
    "        'получение высшего образования',\n",
    "        'профильное образование', \n",
    "        'высшее образование', \n",
    "        'заняться высшим образованием'\n",
    "    ]):\n",
    "        return 'получение образования'\n",
    "    \n",
    "    else:\n",
    "        return 'другая категория' "
   ]
  },
  {
   "cell_type": "code",
   "execution_count": 22,
   "id": "7cb4a81d",
   "metadata": {
    "id": "7cb4a81d"
   },
   "outputs": [
    {
     "name": "stdout",
     "output_type": "stream",
     "text": [
      "       children  days_employed  dob_years education  education_id  \\\n",
      "0             1    8437.673028         42    высшее             0   \n",
      "1             1    4024.803754         36   среднее             1   \n",
      "2             0    5623.422610         33   среднее             1   \n",
      "3             3    4124.747207         32   среднее             1   \n",
      "4             0  340266.072047         53   среднее             1   \n",
      "...         ...            ...        ...       ...           ...   \n",
      "21520         1    4529.316663         43   среднее             1   \n",
      "21521         0  343937.404131         67   среднее             1   \n",
      "21522         1    2113.346888         38   среднее             1   \n",
      "21523         3    3112.481705         38   среднее             1   \n",
      "21524         2    1984.507589         40   среднее             1   \n",
      "\n",
      "          family_status  family_status_id gender income_type  debt  \\\n",
      "0       женат / замужем                 0      F   сотрудник     0   \n",
      "1       женат / замужем                 0      F   сотрудник     0   \n",
      "2       женат / замужем                 0      M   сотрудник     0   \n",
      "3       женат / замужем                 0      M   сотрудник     0   \n",
      "4      гражданский брак                 1      F   пенсионер     0   \n",
      "...                 ...               ...    ...         ...   ...   \n",
      "21520  гражданский брак                 1      F   компаньон     0   \n",
      "21521   женат / замужем                 0      F   пенсионер     0   \n",
      "21522  гражданский брак                 1      M   сотрудник     1   \n",
      "21523   женат / замужем                 0      M   сотрудник     1   \n",
      "21524   женат / замужем                 0      F   сотрудник     0   \n",
      "\n",
      "       total_income                       purpose total_income_category  \\\n",
      "0            253875                 покупка жилья                     B   \n",
      "1            112080       приобретение автомобиля                     C   \n",
      "2            145885                 покупка жилья                     C   \n",
      "3            267628    дополнительное образование                     B   \n",
      "4            158616               сыграть свадьбу                     C   \n",
      "...             ...                           ...                   ...   \n",
      "21520        224791             операции с жильем                     B   \n",
      "21521        155999          сделка с автомобилем                     C   \n",
      "21522         89672                  недвижимость                     C   \n",
      "21523        244093  на покупку своего автомобиля                     B   \n",
      "21524         82047         на покупку автомобиля                     C   \n",
      "\n",
      "               purpose_category  \n",
      "0      операции с недвижимостью  \n",
      "1              другая категория  \n",
      "2      операции с недвижимостью  \n",
      "3         получение образования  \n",
      "4            проведение свадьбы  \n",
      "...                         ...  \n",
      "21520  операции с недвижимостью  \n",
      "21521    операции с автомобилем  \n",
      "21522  операции с недвижимостью  \n",
      "21523    операции с автомобилем  \n",
      "21524    операции с автомобилем  \n",
      "\n",
      "[21331 rows x 14 columns]\n"
     ]
    }
   ],
   "source": [
    "data['purpose_category'] = data['purpose'].apply(categorize_purpose)\n",
    "print(data) # примените функцию методом apply()"
   ]
  },
  {
   "cell_type": "code",
   "execution_count": null,
   "id": "d385c74f",
   "metadata": {},
   "outputs": [],
   "source": []
  }
 ],
 "metadata": {
  "ExecuteTimeLog": [
   {
    "duration": 407,
    "start_time": "2024-08-01T19:40:04.058Z"
   },
   {
    "duration": 133,
    "start_time": "2024-08-01T19:40:05.406Z"
   },
   {
    "duration": 69,
    "start_time": "2024-08-01T19:40:20.390Z"
   },
   {
    "duration": 19,
    "start_time": "2024-08-01T19:40:33.472Z"
   },
   {
    "duration": 14,
    "start_time": "2024-08-01T19:40:47.320Z"
   },
   {
    "duration": 15,
    "start_time": "2024-08-01T19:41:49.826Z"
   },
   {
    "duration": 34,
    "start_time": "2024-08-01T19:48:25.361Z"
   },
   {
    "duration": 20,
    "start_time": "2024-08-01T19:49:06.086Z"
   },
   {
    "duration": 20,
    "start_time": "2024-08-01T19:49:34.640Z"
   },
   {
    "duration": 9,
    "start_time": "2024-08-01T19:50:15.091Z"
   },
   {
    "duration": 202,
    "start_time": "2024-08-01T20:02:37.126Z"
   },
   {
    "duration": 191,
    "start_time": "2024-08-01T20:03:20.484Z"
   },
   {
    "duration": 4,
    "start_time": "2024-08-01T20:05:01.160Z"
   },
   {
    "duration": 9,
    "start_time": "2024-08-01T20:08:53.184Z"
   },
   {
    "duration": 56,
    "start_time": "2024-08-02T11:48:56.003Z"
   },
   {
    "duration": 403,
    "start_time": "2024-08-02T11:49:07.143Z"
   },
   {
    "duration": 147,
    "start_time": "2024-08-02T11:49:07.548Z"
   },
   {
    "duration": 25,
    "start_time": "2024-08-02T11:49:07.697Z"
   },
   {
    "duration": 18,
    "start_time": "2024-08-02T11:49:07.724Z"
   },
   {
    "duration": 11,
    "start_time": "2024-08-02T11:49:07.745Z"
   },
   {
    "duration": 279,
    "start_time": "2024-08-02T11:49:07.758Z"
   },
   {
    "duration": 3,
    "start_time": "2024-08-02T11:49:08.039Z"
   },
   {
    "duration": 11,
    "start_time": "2024-08-02T11:49:08.044Z"
   },
   {
    "duration": 30,
    "start_time": "2024-08-02T11:49:08.057Z"
   },
   {
    "duration": 17,
    "start_time": "2024-08-02T11:49:08.089Z"
   },
   {
    "duration": 4,
    "start_time": "2024-08-02T11:49:08.108Z"
   },
   {
    "duration": 4,
    "start_time": "2024-08-02T11:49:08.114Z"
   },
   {
    "duration": 7,
    "start_time": "2024-08-02T11:49:08.120Z"
   },
   {
    "duration": 5,
    "start_time": "2024-08-02T11:49:08.130Z"
   },
   {
    "duration": 4,
    "start_time": "2024-08-02T11:49:08.137Z"
   },
   {
    "duration": 4,
    "start_time": "2024-08-02T11:49:08.142Z"
   },
   {
    "duration": 4,
    "start_time": "2024-08-02T11:49:08.147Z"
   },
   {
    "duration": 7,
    "start_time": "2024-08-02T11:49:08.152Z"
   },
   {
    "duration": 4,
    "start_time": "2024-08-02T11:49:08.161Z"
   },
   {
    "duration": 17,
    "start_time": "2024-08-02T11:49:08.183Z"
   },
   {
    "duration": 15,
    "start_time": "2024-08-02T11:49:08.202Z"
   },
   {
    "duration": 21,
    "start_time": "2024-08-02T11:49:08.218Z"
   },
   {
    "duration": 15,
    "start_time": "2024-08-02T11:51:10.876Z"
   },
   {
    "duration": 71,
    "start_time": "2024-08-02T11:54:06.959Z"
   },
   {
    "duration": 386,
    "start_time": "2024-08-02T11:54:11.630Z"
   },
   {
    "duration": 97,
    "start_time": "2024-08-02T11:54:12.018Z"
   },
   {
    "duration": 26,
    "start_time": "2024-08-02T11:54:12.116Z"
   },
   {
    "duration": 25,
    "start_time": "2024-08-02T11:54:12.144Z"
   },
   {
    "duration": 11,
    "start_time": "2024-08-02T11:54:12.182Z"
   },
   {
    "duration": 259,
    "start_time": "2024-08-02T11:54:12.195Z"
   },
   {
    "duration": 3,
    "start_time": "2024-08-02T11:54:12.456Z"
   },
   {
    "duration": 21,
    "start_time": "2024-08-02T11:54:12.461Z"
   },
   {
    "duration": 4,
    "start_time": "2024-08-02T11:54:12.483Z"
   },
   {
    "duration": 77,
    "start_time": "2024-08-02T11:54:12.489Z"
   },
   {
    "duration": 0,
    "start_time": "2024-08-02T11:54:12.569Z"
   },
   {
    "duration": 0,
    "start_time": "2024-08-02T11:54:12.570Z"
   },
   {
    "duration": 0,
    "start_time": "2024-08-02T11:54:12.571Z"
   },
   {
    "duration": 0,
    "start_time": "2024-08-02T11:54:12.582Z"
   },
   {
    "duration": 0,
    "start_time": "2024-08-02T11:54:12.584Z"
   },
   {
    "duration": 0,
    "start_time": "2024-08-02T11:54:12.586Z"
   },
   {
    "duration": 0,
    "start_time": "2024-08-02T11:54:12.587Z"
   },
   {
    "duration": 0,
    "start_time": "2024-08-02T11:54:12.589Z"
   },
   {
    "duration": 0,
    "start_time": "2024-08-02T11:54:12.591Z"
   },
   {
    "duration": 0,
    "start_time": "2024-08-02T11:54:12.592Z"
   },
   {
    "duration": 0,
    "start_time": "2024-08-02T11:54:12.594Z"
   },
   {
    "duration": 0,
    "start_time": "2024-08-02T11:54:12.595Z"
   },
   {
    "duration": 15,
    "start_time": "2024-08-02T11:54:29.654Z"
   },
   {
    "duration": 11,
    "start_time": "2024-08-02T11:56:13.536Z"
   },
   {
    "duration": 6,
    "start_time": "2024-08-02T11:56:19.337Z"
   },
   {
    "duration": 21,
    "start_time": "2024-08-02T11:56:50.454Z"
   },
   {
    "duration": 17,
    "start_time": "2024-08-02T11:58:49.366Z"
   },
   {
    "duration": 15,
    "start_time": "2024-08-02T11:59:40.564Z"
   },
   {
    "duration": 15,
    "start_time": "2024-08-02T12:00:40.195Z"
   },
   {
    "duration": 7,
    "start_time": "2024-08-02T12:04:41.172Z"
   },
   {
    "duration": 70,
    "start_time": "2024-08-02T12:07:54.048Z"
   },
   {
    "duration": 11,
    "start_time": "2024-08-02T12:08:00.159Z"
   },
   {
    "duration": 7,
    "start_time": "2024-08-02T12:08:25.367Z"
   },
   {
    "duration": 27,
    "start_time": "2024-08-02T12:10:18.366Z"
   },
   {
    "duration": 27,
    "start_time": "2024-08-02T12:10:57.178Z"
   },
   {
    "duration": 27,
    "start_time": "2024-08-02T12:11:53.802Z"
   },
   {
    "duration": 24,
    "start_time": "2024-08-02T12:12:16.547Z"
   },
   {
    "duration": 16,
    "start_time": "2024-08-02T14:22:23.425Z"
   },
   {
    "duration": 11,
    "start_time": "2024-08-02T14:22:29.273Z"
   },
   {
    "duration": 14,
    "start_time": "2024-08-02T14:22:34.952Z"
   },
   {
    "duration": 15,
    "start_time": "2024-08-02T14:23:08.241Z"
   },
   {
    "duration": 14,
    "start_time": "2024-08-02T14:23:17.925Z"
   },
   {
    "duration": 15,
    "start_time": "2024-08-02T14:23:28.390Z"
   },
   {
    "duration": 455,
    "start_time": "2024-08-02T14:33:41.846Z"
   },
   {
    "duration": 86,
    "start_time": "2024-08-02T14:33:42.303Z"
   },
   {
    "duration": 24,
    "start_time": "2024-08-02T14:33:42.391Z"
   },
   {
    "duration": 19,
    "start_time": "2024-08-02T14:33:42.417Z"
   },
   {
    "duration": 9,
    "start_time": "2024-08-02T14:33:42.439Z"
   },
   {
    "duration": 271,
    "start_time": "2024-08-02T14:33:42.451Z"
   },
   {
    "duration": 4,
    "start_time": "2024-08-02T14:33:42.724Z"
   },
   {
    "duration": 13,
    "start_time": "2024-08-02T14:33:42.730Z"
   },
   {
    "duration": 3,
    "start_time": "2024-08-02T14:33:42.745Z"
   },
   {
    "duration": 32,
    "start_time": "2024-08-02T14:33:42.750Z"
   },
   {
    "duration": 3,
    "start_time": "2024-08-02T14:33:42.784Z"
   },
   {
    "duration": 21,
    "start_time": "2024-08-02T14:33:42.788Z"
   },
   {
    "duration": 8,
    "start_time": "2024-08-02T14:33:42.811Z"
   },
   {
    "duration": 9,
    "start_time": "2024-08-02T14:33:42.822Z"
   },
   {
    "duration": 8,
    "start_time": "2024-08-02T14:33:42.832Z"
   },
   {
    "duration": 13,
    "start_time": "2024-08-02T14:33:42.841Z"
   },
   {
    "duration": 28,
    "start_time": "2024-08-02T14:33:42.856Z"
   },
   {
    "duration": 5,
    "start_time": "2024-08-02T14:33:42.886Z"
   },
   {
    "duration": 7,
    "start_time": "2024-08-02T14:33:42.893Z"
   },
   {
    "duration": 9,
    "start_time": "2024-08-02T14:33:42.902Z"
   },
   {
    "duration": 8,
    "start_time": "2024-08-02T14:33:42.912Z"
   },
   {
    "duration": 4,
    "start_time": "2024-08-02T14:33:42.922Z"
   },
   {
    "duration": 436,
    "start_time": "2024-08-02T14:35:51.064Z"
   },
   {
    "duration": 82,
    "start_time": "2024-08-02T14:35:51.502Z"
   },
   {
    "duration": 23,
    "start_time": "2024-08-02T14:35:51.586Z"
   },
   {
    "duration": 52,
    "start_time": "2024-08-02T14:35:51.611Z"
   },
   {
    "duration": 10,
    "start_time": "2024-08-02T14:35:51.665Z"
   },
   {
    "duration": 234,
    "start_time": "2024-08-02T14:35:51.676Z"
   },
   {
    "duration": 3,
    "start_time": "2024-08-02T14:35:51.912Z"
   },
   {
    "duration": 96,
    "start_time": "2024-08-02T14:35:51.917Z"
   },
   {
    "duration": 24,
    "start_time": "2024-08-02T14:35:52.014Z"
   },
   {
    "duration": 21,
    "start_time": "2024-08-02T14:35:52.040Z"
   },
   {
    "duration": 3,
    "start_time": "2024-08-02T14:35:52.062Z"
   },
   {
    "duration": 4,
    "start_time": "2024-08-02T14:35:52.066Z"
   },
   {
    "duration": 8,
    "start_time": "2024-08-02T14:35:52.072Z"
   },
   {
    "duration": 4,
    "start_time": "2024-08-02T14:35:52.082Z"
   },
   {
    "duration": 15,
    "start_time": "2024-08-02T14:35:52.087Z"
   },
   {
    "duration": 18,
    "start_time": "2024-08-02T14:35:52.104Z"
   },
   {
    "duration": 30,
    "start_time": "2024-08-02T14:35:52.123Z"
   },
   {
    "duration": 9,
    "start_time": "2024-08-02T14:35:52.155Z"
   },
   {
    "duration": 5,
    "start_time": "2024-08-02T14:35:52.165Z"
   },
   {
    "duration": 17,
    "start_time": "2024-08-02T14:35:52.171Z"
   },
   {
    "duration": 8,
    "start_time": "2024-08-02T14:35:52.190Z"
   },
   {
    "duration": 7,
    "start_time": "2024-08-02T14:35:52.200Z"
   },
   {
    "duration": 4,
    "start_time": "2024-08-02T14:39:25.805Z"
   },
   {
    "duration": 227,
    "start_time": "2024-08-02T14:49:06.138Z"
   },
   {
    "duration": 10,
    "start_time": "2024-08-02T14:50:19.082Z"
   },
   {
    "duration": 69,
    "start_time": "2024-08-02T14:52:26.749Z"
   },
   {
    "duration": 7,
    "start_time": "2024-08-02T14:52:41.132Z"
   },
   {
    "duration": 4,
    "start_time": "2024-08-02T14:54:02.745Z"
   },
   {
    "duration": 13,
    "start_time": "2024-08-02T14:56:44.912Z"
   },
   {
    "duration": 13,
    "start_time": "2024-08-02T14:58:05.713Z"
   },
   {
    "duration": 19,
    "start_time": "2024-08-02T14:58:11.430Z"
   },
   {
    "duration": 7,
    "start_time": "2024-08-02T14:58:34.138Z"
   },
   {
    "duration": 18,
    "start_time": "2024-08-02T14:58:39.510Z"
   },
   {
    "duration": 4,
    "start_time": "2024-08-02T15:01:32.694Z"
   },
   {
    "duration": 10,
    "start_time": "2024-08-02T15:01:34.195Z"
   },
   {
    "duration": 12,
    "start_time": "2024-08-02T15:02:15.177Z"
   },
   {
    "duration": 7,
    "start_time": "2024-08-02T15:03:02.881Z"
   },
   {
    "duration": 486,
    "start_time": "2024-08-02T15:03:31.459Z"
   },
   {
    "duration": 94,
    "start_time": "2024-08-02T15:03:31.948Z"
   },
   {
    "duration": 28,
    "start_time": "2024-08-02T15:03:32.044Z"
   },
   {
    "duration": 130,
    "start_time": "2024-08-02T15:03:32.081Z"
   },
   {
    "duration": 14,
    "start_time": "2024-08-02T15:03:32.214Z"
   },
   {
    "duration": 286,
    "start_time": "2024-08-02T15:03:32.230Z"
   },
   {
    "duration": 3,
    "start_time": "2024-08-02T15:03:32.519Z"
   },
   {
    "duration": 26,
    "start_time": "2024-08-02T15:03:32.524Z"
   },
   {
    "duration": 5,
    "start_time": "2024-08-02T15:03:32.552Z"
   },
   {
    "duration": 20,
    "start_time": "2024-08-02T15:03:32.559Z"
   },
   {
    "duration": 4,
    "start_time": "2024-08-02T15:03:32.581Z"
   },
   {
    "duration": 241,
    "start_time": "2024-08-02T15:03:32.587Z"
   },
   {
    "duration": 10,
    "start_time": "2024-08-02T15:03:32.829Z"
   },
   {
    "duration": 3,
    "start_time": "2024-08-02T15:03:32.842Z"
   },
   {
    "duration": 20,
    "start_time": "2024-08-02T15:03:32.847Z"
   },
   {
    "duration": 33,
    "start_time": "2024-08-02T15:03:32.868Z"
   },
   {
    "duration": 19,
    "start_time": "2024-08-02T15:03:32.903Z"
   },
   {
    "duration": 4,
    "start_time": "2024-08-02T15:03:32.923Z"
   },
   {
    "duration": 32,
    "start_time": "2024-08-02T15:03:32.929Z"
   },
   {
    "duration": 75,
    "start_time": "2024-08-02T15:03:32.963Z"
   },
   {
    "duration": 0,
    "start_time": "2024-08-02T15:03:33.039Z"
   },
   {
    "duration": 0,
    "start_time": "2024-08-02T15:03:33.040Z"
   },
   {
    "duration": 10,
    "start_time": "2024-08-02T15:05:23.866Z"
   },
   {
    "duration": 6,
    "start_time": "2024-08-02T15:05:30.547Z"
   },
   {
    "duration": 9,
    "start_time": "2024-08-02T15:06:10.698Z"
   },
   {
    "duration": 426,
    "start_time": "2024-08-02T15:07:42.590Z"
   },
   {
    "duration": 84,
    "start_time": "2024-08-02T15:07:43.018Z"
   },
   {
    "duration": 23,
    "start_time": "2024-08-02T15:07:43.104Z"
   },
   {
    "duration": 16,
    "start_time": "2024-08-02T15:07:43.129Z"
   },
   {
    "duration": 11,
    "start_time": "2024-08-02T15:07:43.148Z"
   },
   {
    "duration": 284,
    "start_time": "2024-08-02T15:07:43.161Z"
   },
   {
    "duration": 3,
    "start_time": "2024-08-02T15:07:43.447Z"
   },
   {
    "duration": 7,
    "start_time": "2024-08-02T15:07:43.452Z"
   },
   {
    "duration": 8,
    "start_time": "2024-08-02T15:07:43.460Z"
   },
   {
    "duration": 16,
    "start_time": "2024-08-02T15:07:43.483Z"
   },
   {
    "duration": 3,
    "start_time": "2024-08-02T15:07:43.501Z"
   },
   {
    "duration": 256,
    "start_time": "2024-08-02T15:07:43.506Z"
   },
   {
    "duration": 18,
    "start_time": "2024-08-02T15:07:43.764Z"
   },
   {
    "duration": 3,
    "start_time": "2024-08-02T15:07:43.785Z"
   },
   {
    "duration": 22,
    "start_time": "2024-08-02T15:07:43.790Z"
   },
   {
    "duration": 25,
    "start_time": "2024-08-02T15:07:43.814Z"
   },
   {
    "duration": 20,
    "start_time": "2024-08-02T15:07:43.840Z"
   },
   {
    "duration": 5,
    "start_time": "2024-08-02T15:07:43.861Z"
   },
   {
    "duration": 17,
    "start_time": "2024-08-02T15:07:43.881Z"
   },
   {
    "duration": 97,
    "start_time": "2024-08-02T15:07:43.900Z"
   },
   {
    "duration": 0,
    "start_time": "2024-08-02T15:07:43.998Z"
   },
   {
    "duration": 0,
    "start_time": "2024-08-02T15:07:44.000Z"
   },
   {
    "duration": 5,
    "start_time": "2024-08-02T15:08:09.179Z"
   },
   {
    "duration": 3,
    "start_time": "2024-08-02T15:09:49.892Z"
   },
   {
    "duration": 14,
    "start_time": "2024-08-02T15:10:19.031Z"
   },
   {
    "duration": 20,
    "start_time": "2024-08-02T15:12:46.150Z"
   },
   {
    "duration": 32,
    "start_time": "2024-08-02T15:13:17.117Z"
   },
   {
    "duration": 441,
    "start_time": "2024-08-02T15:15:44.756Z"
   },
   {
    "duration": 87,
    "start_time": "2024-08-02T15:15:45.199Z"
   },
   {
    "duration": 24,
    "start_time": "2024-08-02T15:15:45.288Z"
   },
   {
    "duration": 26,
    "start_time": "2024-08-02T15:15:45.313Z"
   },
   {
    "duration": 13,
    "start_time": "2024-08-02T15:15:45.341Z"
   },
   {
    "duration": 269,
    "start_time": "2024-08-02T15:15:45.355Z"
   },
   {
    "duration": 8,
    "start_time": "2024-08-02T15:15:45.630Z"
   },
   {
    "duration": 40,
    "start_time": "2024-08-02T15:15:45.641Z"
   },
   {
    "duration": 148,
    "start_time": "2024-08-02T15:15:45.682Z"
   },
   {
    "duration": 30,
    "start_time": "2024-08-02T15:15:45.832Z"
   },
   {
    "duration": 7,
    "start_time": "2024-08-02T15:15:45.864Z"
   },
   {
    "duration": 279,
    "start_time": "2024-08-02T15:15:45.872Z"
   },
   {
    "duration": 12,
    "start_time": "2024-08-02T15:15:46.153Z"
   },
   {
    "duration": 99,
    "start_time": "2024-08-02T15:15:46.168Z"
   },
   {
    "duration": 23,
    "start_time": "2024-08-02T15:15:46.269Z"
   },
   {
    "duration": 26,
    "start_time": "2024-08-02T15:15:46.293Z"
   },
   {
    "duration": 19,
    "start_time": "2024-08-02T15:15:46.321Z"
   },
   {
    "duration": 21,
    "start_time": "2024-08-02T15:15:46.342Z"
   },
   {
    "duration": 47,
    "start_time": "2024-08-02T15:15:46.364Z"
   },
   {
    "duration": 84,
    "start_time": "2024-08-02T15:15:46.413Z"
   },
   {
    "duration": 13,
    "start_time": "2024-08-02T15:15:46.499Z"
   },
   {
    "duration": 29,
    "start_time": "2024-08-02T15:15:46.515Z"
   },
   {
    "duration": 85,
    "start_time": "2024-08-02T17:30:40.297Z"
   },
   {
    "duration": 416,
    "start_time": "2024-08-02T17:31:00.802Z"
   },
   {
    "duration": 88,
    "start_time": "2024-08-02T17:31:01.221Z"
   },
   {
    "duration": 25,
    "start_time": "2024-08-02T17:31:01.311Z"
   },
   {
    "duration": 58,
    "start_time": "2024-08-02T17:31:01.337Z"
   },
   {
    "duration": 80,
    "start_time": "2024-08-02T17:31:01.399Z"
   },
   {
    "duration": 305,
    "start_time": "2024-08-02T17:31:01.481Z"
   },
   {
    "duration": 3,
    "start_time": "2024-08-02T17:31:01.788Z"
   },
   {
    "duration": 21,
    "start_time": "2024-08-02T17:31:01.793Z"
   },
   {
    "duration": 19,
    "start_time": "2024-08-02T17:31:01.816Z"
   },
   {
    "duration": 129,
    "start_time": "2024-08-02T17:31:01.837Z"
   },
   {
    "duration": 15,
    "start_time": "2024-08-02T17:31:01.967Z"
   },
   {
    "duration": 338,
    "start_time": "2024-08-02T17:31:01.984Z"
   },
   {
    "duration": 11,
    "start_time": "2024-08-02T17:31:02.325Z"
   },
   {
    "duration": 76,
    "start_time": "2024-08-02T17:31:02.338Z"
   },
   {
    "duration": 67,
    "start_time": "2024-08-02T17:31:02.416Z"
   },
   {
    "duration": 55,
    "start_time": "2024-08-02T17:31:02.484Z"
   },
   {
    "duration": 24,
    "start_time": "2024-08-02T17:31:02.542Z"
   },
   {
    "duration": 9,
    "start_time": "2024-08-02T17:31:02.567Z"
   },
   {
    "duration": 16,
    "start_time": "2024-08-02T17:31:02.577Z"
   },
   {
    "duration": 65,
    "start_time": "2024-08-02T17:31:02.595Z"
   },
   {
    "duration": 117,
    "start_time": "2024-08-02T17:31:02.661Z"
   },
   {
    "duration": 0,
    "start_time": "2024-08-02T17:31:02.780Z"
   },
   {
    "duration": 5,
    "start_time": "2024-08-02T17:32:59.627Z"
   },
   {
    "duration": 58,
    "start_time": "2024-08-02T17:33:09.048Z"
   },
   {
    "duration": 8,
    "start_time": "2024-08-02T17:37:52.684Z"
   },
   {
    "duration": 425,
    "start_time": "2024-08-02T17:38:48.688Z"
   },
   {
    "duration": 85,
    "start_time": "2024-08-02T17:38:49.116Z"
   },
   {
    "duration": 23,
    "start_time": "2024-08-02T17:38:49.202Z"
   },
   {
    "duration": 17,
    "start_time": "2024-08-02T17:38:49.227Z"
   },
   {
    "duration": 9,
    "start_time": "2024-08-02T17:38:49.246Z"
   },
   {
    "duration": 258,
    "start_time": "2024-08-02T17:38:49.257Z"
   },
   {
    "duration": 3,
    "start_time": "2024-08-02T17:38:49.517Z"
   },
   {
    "duration": 8,
    "start_time": "2024-08-02T17:38:49.522Z"
   },
   {
    "duration": 4,
    "start_time": "2024-08-02T17:38:49.531Z"
   },
   {
    "duration": 16,
    "start_time": "2024-08-02T17:38:49.536Z"
   },
   {
    "duration": 28,
    "start_time": "2024-08-02T17:38:49.554Z"
   },
   {
    "duration": 236,
    "start_time": "2024-08-02T17:38:49.584Z"
   },
   {
    "duration": 10,
    "start_time": "2024-08-02T17:38:49.823Z"
   },
   {
    "duration": 5,
    "start_time": "2024-08-02T17:38:49.836Z"
   },
   {
    "duration": 17,
    "start_time": "2024-08-02T17:38:49.842Z"
   },
   {
    "duration": 36,
    "start_time": "2024-08-02T17:38:49.860Z"
   },
   {
    "duration": 18,
    "start_time": "2024-08-02T17:38:49.898Z"
   },
   {
    "duration": 46,
    "start_time": "2024-08-02T17:38:49.918Z"
   },
   {
    "duration": 13,
    "start_time": "2024-08-02T17:38:49.966Z"
   },
   {
    "duration": 7,
    "start_time": "2024-08-02T17:38:49.980Z"
   },
   {
    "duration": 7,
    "start_time": "2024-08-02T17:38:49.989Z"
   },
   {
    "duration": 79,
    "start_time": "2024-08-02T17:38:49.997Z"
   },
   {
    "duration": 77,
    "start_time": "2024-08-02T17:54:01.974Z"
   },
   {
    "duration": 8,
    "start_time": "2024-08-02T17:55:38.344Z"
   },
   {
    "duration": 432,
    "start_time": "2024-08-02T17:56:42.958Z"
   },
   {
    "duration": 84,
    "start_time": "2024-08-02T17:56:43.392Z"
   },
   {
    "duration": 24,
    "start_time": "2024-08-02T17:56:43.478Z"
   },
   {
    "duration": 19,
    "start_time": "2024-08-02T17:56:43.503Z"
   },
   {
    "duration": 11,
    "start_time": "2024-08-02T17:56:43.524Z"
   },
   {
    "duration": 246,
    "start_time": "2024-08-02T17:56:43.536Z"
   },
   {
    "duration": 3,
    "start_time": "2024-08-02T17:56:43.784Z"
   },
   {
    "duration": 9,
    "start_time": "2024-08-02T17:56:43.788Z"
   },
   {
    "duration": 6,
    "start_time": "2024-08-02T17:56:43.798Z"
   },
   {
    "duration": 15,
    "start_time": "2024-08-02T17:56:43.805Z"
   },
   {
    "duration": 6,
    "start_time": "2024-08-02T17:56:43.822Z"
   },
   {
    "duration": 310,
    "start_time": "2024-08-02T17:56:43.830Z"
   },
   {
    "duration": 11,
    "start_time": "2024-08-02T17:56:44.141Z"
   },
   {
    "duration": 70,
    "start_time": "2024-08-02T17:56:44.154Z"
   },
   {
    "duration": 54,
    "start_time": "2024-08-02T17:56:44.226Z"
   },
   {
    "duration": 60,
    "start_time": "2024-08-02T17:56:44.281Z"
   },
   {
    "duration": 42,
    "start_time": "2024-08-02T17:56:44.343Z"
   },
   {
    "duration": 39,
    "start_time": "2024-08-02T17:56:44.387Z"
   },
   {
    "duration": 30,
    "start_time": "2024-08-02T17:56:44.428Z"
   },
   {
    "duration": 79,
    "start_time": "2024-08-02T17:56:44.460Z"
   },
   {
    "duration": 34,
    "start_time": "2024-08-02T17:56:44.541Z"
   },
   {
    "duration": 128,
    "start_time": "2024-08-02T17:56:44.577Z"
   },
   {
    "duration": 6,
    "start_time": "2024-08-02T17:59:42.311Z"
   }
  ],
  "colab": {
   "provenance": []
  },
  "kernelspec": {
   "display_name": "Python 3 (ipykernel)",
   "language": "python",
   "name": "python3"
  },
  "language_info": {
   "codemirror_mode": {
    "name": "ipython",
    "version": 3
   },
   "file_extension": ".py",
   "mimetype": "text/x-python",
   "name": "python",
   "nbconvert_exporter": "python",
   "pygments_lexer": "ipython3",
   "version": "3.9.5"
  },
  "toc": {
   "base_numbering": 1,
   "nav_menu": {},
   "number_sections": true,
   "sideBar": true,
   "skip_h1_title": true,
   "title_cell": "Table of Contents",
   "title_sidebar": "Contents",
   "toc_cell": false,
   "toc_position": {},
   "toc_section_display": true,
   "toc_window_display": false
  }
 },
 "nbformat": 4,
 "nbformat_minor": 5
}
